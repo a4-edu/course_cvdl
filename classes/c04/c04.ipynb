{
 "cells": [
  {
   "cell_type": "markdown",
   "id": "5e9f47f2-d57f-4f52-be0c-6243840ba3a8",
   "metadata": {},
   "source": [
    "## Занятие 4. Разработка ml проектов: хорошие и плохие практики\n",
    "На занятии 3 мы написали пайплайн обучения семантического сегментатора подводных фото в одном jupyter ноутбуке.\n",
    "\n",
    "На этом занятии мы оформим этот пайплайн в ml проект так, чтобы его можно было поддерживать и развивать.\n"
   ]
  },
  {
   "cell_type": "code",
   "execution_count": 1,
   "id": "f474e98a-fa1b-42a3-a808-e5d6ffb96fda",
   "metadata": {},
   "outputs": [
    {
     "data": {
      "text/plain": [
       "WindowsPath('D:/edu/course_cvdl/classes/c04')"
      ]
     },
     "execution_count": 1,
     "metadata": {},
     "output_type": "execute_result"
    }
   ],
   "source": [
    "from pathlib import Path\n",
    "ROOT_PATH = Path().absolute()\n",
    "assert ROOT_PATH.name == 'c04', ROOT_PATH.name\n",
    "ROOT_PATH"
   ]
  },
  {
   "cell_type": "markdown",
   "id": "19cafa43-251b-40c3-8151-7114fded5a6d",
   "metadata": {},
   "source": [
    "### Плохая практика 1: использование jupyter ноутбуков в качестве основного средства разработки\n",
    "- https://www.kdnuggets.com/2019/11/notebook-anti-pattern.html\n",
    "- https://analyticsindiamag.com/an-argument-against-using-jupyter-notebook-for-machine-learning/\n",
    "- https://medium.com/skyline-ai/jupyter-notebook-is-the-cancer-of-ml-engineering-70b98685ee71\n",
    "\n",
    "Главные проблемы:\n",
    "- нелинейность исполнения кода (сложно читать и сложно воспроизводить)\n",
    "- невозможность тестирования\n",
    "- нечитыемые diff-ы в git (сложно разобраться в истории и работать совместно)\n",
    "\n",
    "Jupyter ноутбуки хорошо подходят чтобы:\n",
    "- визуализировать данные\n",
    "- набросать прототип\n",
    "- поделиться однократным результатом\n",
    "\n",
    "\n",
    "#### **Решение**: \n",
    "Использовать стандартные инструменты разработки ЯП, например - Python пакеты."
   ]
  },
  {
   "cell_type": "code",
   "execution_count": 2,
   "id": "7c30f053-ecfb-4cdf-8054-96544bef8e13",
   "metadata": {},
   "outputs": [
    {
     "ename": "ModuleNotFoundError",
     "evalue": "No module named 'suim_segmentation'",
     "output_type": "error",
     "traceback": [
      "\u001b[1;31m---------------------------------------------------------------------------\u001b[0m",
      "\u001b[1;31mModuleNotFoundError\u001b[0m                       Traceback (most recent call last)",
      "Cell \u001b[1;32mIn[2], line 2\u001b[0m\n\u001b[0;32m      1\u001b[0m \u001b[38;5;66;03m# Python ищет пакеты в PYTHONPATH, если пакет не найден - то получаем ModuleNotFound\u001b[39;00m\n\u001b[1;32m----> 2\u001b[0m \u001b[38;5;28;01mfrom\u001b[39;00m \u001b[38;5;21;01msuim_segmentation\u001b[39;00m\u001b[38;5;21;01m.\u001b[39;00m\u001b[38;5;21;01mdata\u001b[39;00m \u001b[38;5;28;01mimport\u001b[39;00m SuimDataset\n",
      "\u001b[1;31mModuleNotFoundError\u001b[0m: No module named 'suim_segmentation'"
     ]
    }
   ],
   "source": [
    "# Python ищет пакеты в PYTHONPATH, если пакет не найден - то получаем ModuleNotFound\n",
    "from suim_segmentation.data import SuimDataset"
   ]
  },
  {
   "cell_type": "code",
   "execution_count": 4,
   "id": "95fa5c9a-2e90-40ba-b050-61b163fae416",
   "metadata": {},
   "outputs": [
    {
     "name": "stdout",
     "output_type": "stream",
     "text": [
      "D:\\edu\\course_cvdl\\classes\\c04\\src\n"
     ]
    }
   ],
   "source": [
    "cd src"
   ]
  },
  {
   "cell_type": "code",
   "execution_count": 5,
   "id": "2b3d451e-4c00-4eef-be47-c8b66d06c77b",
   "metadata": {},
   "outputs": [],
   "source": [
    "# В PYTHONPATH всегда содержится current_dir, так что из родительской директории можно импортировать пакет\n",
    "from suim_segmentation.data import SuimDataset"
   ]
  },
  {
   "cell_type": "code",
   "execution_count": 6,
   "id": "136bd506-722c-4b8f-abe3-17af6d715975",
   "metadata": {},
   "outputs": [
    {
     "data": {
      "text/plain": [
       "'D:\\\\edu\\\\course_cvdl\\\\classes\\\\c04\\\\src\\\\suim_segmentation\\\\data.py'"
      ]
     },
     "execution_count": 6,
     "metadata": {},
     "output_type": "execute_result"
    }
   ],
   "source": [
    "from suim_segmentation import data as suim_data\n",
    "suim_data.__file__"
   ]
  },
  {
   "cell_type": "markdown",
   "id": "ee323b2e-bb7a-4e43-9e21-95f3cc701a80",
   "metadata": {},
   "source": [
    "Если пакет находится в текущей папке, то его можно импортировать.\n",
    "\n",
    "Это не очень удобно - код можно будет вызывать только при определенной текущей директории.\n",
    "\n",
    "**Правильное решение - сделать пакет устанавливаемым!**"
   ]
  },
  {
   "cell_type": "markdown",
   "id": "98e5b14e-4368-444d-b262-909b271795a5",
   "metadata": {},
   "source": [
    "### 1.1 Пакетируем код"
   ]
  },
  {
   "cell_type": "markdown",
   "id": "ef4531b8-82d7-4b3c-a25c-fcd108be5dc0",
   "metadata": {},
   "source": [
    "На сегодня (2023 год) рекомендуется пакетировать код с помощью `pyproject.toml` файла:\n",
    "- поддерживает разные системы сборки (не только setuptools)\n",
    "- поддерживает C++ расширения\n",
    "- стандартизирован в PEP-518, PEP-621\n",
    "\n",
    "Раньше часто использовались другие [способы](https://packaging.python.org/en/latest/glossary/?highlight=setup.py#term-setup.py), но сейчас `pyproject.toml` является рекомендуемым"
   ]
  },
  {
   "cell_type": "code",
   "execution_count": 7,
   "id": "e04ff4e3-d121-43d6-892b-451b8f2f726e",
   "metadata": {},
   "outputs": [
    {
     "name": "stdout",
     "output_type": "stream",
     "text": [
      " Volume in drive D is Ext\n",
      " Volume Serial Number is 5670-7B72\n",
      "\n",
      " Directory of D:\\edu\\course_cvdl\\classes\\c04\\src\n",
      "\n",
      "30.09.2023  21:17    <DIR>          .\n",
      "30.09.2023  21:17    <DIR>          ..\n",
      "30.09.2023  21:20    <DIR>          suim_segmentation\n",
      "               0 File(s)              0 bytes\n",
      "               3 Dir(s)  352я361я365я504 bytes free\n"
     ]
    }
   ],
   "source": [
    "ls ."
   ]
  },
  {
   "cell_type": "code",
   "execution_count": 8,
   "id": "9f740855-b6c8-4d63-b1fa-613c154432ae",
   "metadata": {},
   "outputs": [
    {
     "name": "stdout",
     "output_type": "stream",
     "text": [
      "Writing D:\\edu\\course_cvdl\\classes\\c04\\src\\pyproject.toml\n"
     ]
    }
   ],
   "source": [
    "%%writefile {str(ROOT_PATH / 'src' / 'pyproject.toml')}\n",
    "\n",
    "[project]\n",
    "name = \"suim_segmentation\"\n",
    "description = \"ML project example package\"\n",
    "version = \"0.1.0\""
   ]
  },
  {
   "cell_type": "markdown",
   "id": "311d4f38-4e50-4102-bd49-aefa9939d83f",
   "metadata": {},
   "source": [
    "### Сделаем пакет устанавливаемым\n",
    "Посмотрим гайд https://packaging.python.org/en/latest/tutorials/packaging-projects/#creating-pyproject-toml, чтобы заполнить pyproject.toml и сделать пакет установливаемым.\n",
    "\n"
   ]
  },
  {
   "cell_type": "code",
   "execution_count": 9,
   "id": "e5dd9dfd-6cf6-4081-85ad-4680c32d9f26",
   "metadata": {},
   "outputs": [
    {
     "name": "stdout",
     "output_type": "stream",
     "text": [
      " Volume in drive D is Ext\n",
      " Volume Serial Number is 5670-7B72\n",
      "\n",
      " Directory of D:\\edu\\course_cvdl\\classes\\c04\\src\n",
      "\n",
      "30.09.2023  21:20    <DIR>          .\n",
      "30.09.2023  21:20    <DIR>          ..\n",
      "30.09.2023  21:20               104 pyproject.toml\n",
      "30.09.2023  21:20    <DIR>          suim_segmentation\n",
      "               1 File(s)            104 bytes\n",
      "               3 Dir(s)  352я361я365я504 bytes free\n"
     ]
    }
   ],
   "source": [
    "ls"
   ]
  },
  {
   "cell_type": "code",
   "execution_count": 10,
   "id": "368e424f-90c8-4336-b0f4-3eb78821c637",
   "metadata": {},
   "outputs": [
    {
     "name": "stdout",
     "output_type": "stream",
     "text": [
      "Obtaining file:///D:/edu/course_cvdl/classes/c04/src\n",
      "  Installing build dependencies: started\n",
      "  Installing build dependencies: finished with status 'done'\n",
      "  Checking if build backend supports build_editable: started\n",
      "  Checking if build backend supports build_editable: finished with status 'done'\n",
      "  Getting requirements to build editable: started\n",
      "  Getting requirements to build editable: finished with status 'done'\n",
      "  Preparing editable metadata (pyproject.toml): started\n",
      "  Preparing editable metadata (pyproject.toml): finished with status 'done'\n",
      "Building wheels for collected packages: suim-segmentation\n",
      "  Building editable for suim-segmentation (pyproject.toml): started\n",
      "  Building editable for suim-segmentation (pyproject.toml): finished with status 'done'\n",
      "  Created wheel for suim-segmentation: filename=suim_segmentation-0.1.0-0.editable-py3-none-any.whl size=2665 sha256=f1ecceba8f40cb8f8e305ca735491928b9b97350ac139b9dd309d89d96baaa84\n",
      "  Stored in directory: C:\\Users\\bzimka\\AppData\\Local\\Temp\\pip-ephem-wheel-cache-khu183io\\wheels\\48\\5e\\2b\\574c8018a0d55301b24c6ce052454fd787d602cce8c29cc720\n",
      "Successfully built suim-segmentation\n",
      "Installing collected packages: suim-segmentation\n",
      "Successfully installed suim-segmentation-0.1.0\n"
     ]
    }
   ],
   "source": [
    "! pip install -e ."
   ]
  },
  {
   "cell_type": "markdown",
   "id": "60c744fe-cf03-46fd-8db8-581e533e2360",
   "metadata": {},
   "source": [
    "Ещё пакеты c `pyproject.toml` (или `setup.py`) можно устанавливать из git репозитория, например:\n",
    "`pip install git+https://github.com/arogozhnikov/einops`"
   ]
  },
  {
   "cell_type": "code",
   "execution_count": 11,
   "id": "062383ca-55c5-4351-b58a-b5f10be2b037",
   "metadata": {},
   "outputs": [
    {
     "name": "stdout",
     "output_type": "stream",
     "text": [
      "D:\\edu\\course_cvdl\\classes\\c04\n"
     ]
    }
   ],
   "source": [
    "cd {ROOT_PATH}"
   ]
  },
  {
   "cell_type": "markdown",
   "id": "31152be1-8cde-4831-bc5d-5977379f22bc",
   "metadata": {},
   "source": [
    "## Restart KERNEL"
   ]
  },
  {
   "cell_type": "code",
   "execution_count": 8,
   "id": "9fd6f5c0-a7db-44b6-8e08-9f6baf892cbb",
   "metadata": {},
   "outputs": [
    {
     "data": {
      "text/plain": [
       "WindowsPath('D:/edu/course_cvdl/classes/c04')"
      ]
     },
     "execution_count": 8,
     "metadata": {},
     "output_type": "execute_result"
    }
   ],
   "source": [
    "from pathlib import Path\n",
    "ROOT_PATH = Path().absolute()\n",
    "assert ROOT_PATH.name == 'c04', ROOT_PATH.name\n",
    "ROOT_PATH"
   ]
  },
  {
   "cell_type": "code",
   "execution_count": 9,
   "id": "3b7b8f76-1830-4b0d-a237-70bf1327cb8f",
   "metadata": {},
   "outputs": [
    {
     "data": {
      "text/plain": [
       "'D:\\\\edu\\\\course_cvdl\\\\classes\\\\c04\\\\src\\\\suim_segmentation\\\\data.py'"
      ]
     },
     "execution_count": 9,
     "metadata": {},
     "output_type": "execute_result"
    }
   ],
   "source": [
    "from suim_segmentation.data import SuimDataset\n",
    "from suim_segmentation import data\n",
    "data.__file__"
   ]
  },
  {
   "cell_type": "code",
   "execution_count": 10,
   "id": "33a2c588-9dad-4e78-b382-041136ab5426",
   "metadata": {},
   "outputs": [
    {
     "name": "stdout",
     "output_type": "stream",
     "text": [
      " Volume in drive D is Ext\n",
      " Volume Serial Number is 5670-7B72\n",
      "\n",
      " Directory of D:\\edu\\course_cvdl\\classes\\c04\n",
      "\n",
      "30.09.2023  21:23    <DIR>          .\n",
      "30.09.2023  21:23    <DIR>          ..\n",
      "10.09.2023  10:25                 7 .gitignore\n",
      "30.09.2023  21:16    <DIR>          .ipynb_checkpoints\n",
      "30.09.2023  21:23            91я235 c04.ipynb\n",
      "30.09.2023  21:18    <DIR>          data\n",
      "10.09.2023  10:25           645я578 dvc_scheme.png\n",
      "10.09.2023  10:25               309 README.md\n",
      "30.09.2023  21:21    <DIR>          src\n",
      "               4 File(s)        737я129 bytes\n",
      "               5 Dir(s)  352я169я947я136 bytes free\n"
     ]
    }
   ],
   "source": [
    "ls"
   ]
  },
  {
   "cell_type": "code",
   "execution_count": 11,
   "id": "c7162ffa-9e09-4289-980e-98026cf43474",
   "metadata": {},
   "outputs": [
    {
     "name": "stdout",
     "output_type": "stream",
     "text": [
      "D:\\edu\\course_cvdl\\classes\\c04\\src\n"
     ]
    }
   ],
   "source": [
    "cd {ROOT_PATH/\"src\"}"
   ]
  },
  {
   "cell_type": "markdown",
   "id": "8dbcfc22-045d-45db-b973-a85d5bb051c0",
   "metadata": {},
   "source": [
    "### 1.1 Проверяем код на PEP-8 с помощью `pylint`\n",
    "Pylint - инструмент для проверки кода на соответствие PEP-8.\n",
    "\n",
    "`pip install pylint`\n",
    "\n",
    "Вывод всех нарушений PEP8 и оценки вашего кода: `python -m pylint suim_segmentation`\n",
    "\n",
    "Вывод только ошибок: `python -m pylint suim_segmentation/ -E`"
   ]
  },
  {
   "cell_type": "code",
   "execution_count": 12,
   "id": "a38662d0-8281-4d3f-aa6b-e6e5529efa4c",
   "metadata": {},
   "outputs": [
    {
     "name": "stdout",
     "output_type": "stream",
     "text": [
      "************* Module suim_segmentation.data\n",
      "suim_segmentation\\data.py:43:0: C0301: Line too long (135/100) (line-too-long)\n",
      "suim_segmentation\\data.py:44:0: C0301: Line too long (129/100) (line-too-long)\n",
      "suim_segmentation\\data.py:58:0: C0325: Unnecessary parens after 'not' keyword (superfluous-parens)\n",
      "suim_segmentation\\data.py:1:0: C0114: Missing module docstring (missing-module-docstring)\n",
      "suim_segmentation\\data.py:13:0: W0404: Reimport 'Tuple' (imported line 3) (reimported)\n",
      "suim_segmentation\\data.py:13:0: W0404: Reimport 'List' (imported line 3) (reimported)\n",
      "suim_segmentation\\data.py:14:0: W0404: Reimport 'Image' (imported line 7) (reimported)\n",
      "suim_segmentation\\data.py:15:0: W0404: Reimport 'transforms' (imported line 9) (reimported)\n",
      "suim_segmentation\\data.py:19:0: C0115: Missing class docstring (missing-class-docstring)\n",
      "suim_segmentation\\data.py:116:35: E1101: Module 'torch' has no 'uint8' member (no-member)\n",
      "suim_segmentation\\data.py:122:0: C0115: Missing class docstring (missing-class-docstring)\n",
      "suim_segmentation\\data.py:127:8: C0103: Attribute name \"n\" doesn't conform to snake_case naming style (invalid-name)\n",
      "suim_segmentation\\data.py:138:8: R1705: Unnecessary \"else\" after \"return\", remove the \"else\" and de-indent the code inside it (no-else-return)\n",
      "suim_segmentation\\data.py:141:12: C0103: Variable name \"x\" doesn't conform to snake_case naming style (invalid-name)\n",
      "suim_segmentation\\data.py:13:0: C0411: standard import \"from typing import Tuple, List\" should be placed before \"import numpy as np\" (wrong-import-order)\n",
      "suim_segmentation\\data.py:14:0: C0412: Imports from package PIL are not grouped (ungrouped-imports)\n",
      "suim_segmentation\\data.py:15:0: C0412: Imports from package torchvision are not grouped (ungrouped-imports)\n",
      "************* Module suim_segmentation.loss\n",
      "suim_segmentation\\loss.py:1:0: C0114: Missing module docstring (missing-module-docstring)\n",
      "suim_segmentation\\loss.py:5:0: C0115: Missing class docstring (missing-class-docstring)\n",
      "suim_segmentation\\loss.py:13:12: C0103: Variable name \"b\" doesn't conform to snake_case naming style (invalid-name)\n",
      "suim_segmentation\\loss.py:13:28: C0103: Variable name \"h\" doesn't conform to snake_case naming style (invalid-name)\n",
      "suim_segmentation\\loss.py:13:31: C0103: Variable name \"w\" doesn't conform to snake_case naming style (invalid-name)\n",
      "suim_segmentation\\loss.py:18:8: C0103: Variable name \"tp\" doesn't conform to snake_case naming style (invalid-name)\n",
      "suim_segmentation\\loss.py:19:8: C0103: Variable name \"fp\" doesn't conform to snake_case naming style (invalid-name)\n",
      "suim_segmentation\\loss.py:20:8: C0103: Variable name \"fn\" doesn't conform to snake_case naming style (invalid-name)\n",
      "suim_segmentation\\loss.py:13:12: W0612: Unused variable 'b' (unused-variable)\n",
      "suim_segmentation\\loss.py:13:28: W0612: Unused variable 'h' (unused-variable)\n",
      "suim_segmentation\\loss.py:13:31: W0612: Unused variable 'w' (unused-variable)\n",
      "suim_segmentation\\loss.py:2:0: W0611: Unused nn imported from torch (unused-import)\n",
      "************* Module suim_segmentation.metrics\n",
      "suim_segmentation\\metrics.py:1:0: C0114: Missing module docstring (missing-module-docstring)\n",
      "suim_segmentation\\metrics.py:5:0: C0115: Missing class docstring (missing-class-docstring)\n",
      "suim_segmentation\\metrics.py:6:4: C0116: Missing function or method docstring (missing-function-docstring)\n",
      "suim_segmentation\\metrics.py:7:20: E1101: Module 'torch' has no 'argmax' member (no-member)\n",
      "suim_segmentation\\metrics.py:8:8: C0103: Variable name \"tp\" doesn't conform to snake_case naming style (invalid-name)\n",
      "************* Module suim_segmentation.model\n",
      "suim_segmentation\\model.py:1:0: C0114: Missing module docstring (missing-module-docstring)\n",
      "suim_segmentation\\model.py:7:0: C0115: Missing class docstring (missing-class-docstring)\n",
      "suim_segmentation\\model.py:10:8: C0103: Attribute name \"md\" doesn't conform to snake_case naming style (invalid-name)\n",
      "suim_segmentation\\model.py:12:4: C0116: Missing function or method docstring (missing-function-docstring)\n",
      "suim_segmentation\\model.py:12:22: C0103: Argument name \"x\" doesn't conform to snake_case naming style (invalid-name)\n",
      "suim_segmentation\\model.py:13:8: C0103: Variable name \"c1\" doesn't conform to snake_case naming style (invalid-name)\n",
      "suim_segmentation\\model.py:14:8: C0103: Variable name \"c2\" doesn't conform to snake_case naming style (invalid-name)\n",
      "suim_segmentation\\model.py:15:8: C0103: Variable name \"c3\" doesn't conform to snake_case naming style (invalid-name)\n",
      "suim_segmentation\\model.py:16:8: C0103: Variable name \"c4\" doesn't conform to snake_case naming style (invalid-name)\n",
      "suim_segmentation\\model.py:17:8: C0103: Variable name \"c5\" doesn't conform to snake_case naming style (invalid-name)\n",
      "suim_segmentation\\model.py:21:0: C0115: Missing class docstring (missing-class-docstring)\n",
      "suim_segmentation\\model.py:22:4: W0102: Dangerous default value {} as argument (dangerous-default-value)\n",
      "suim_segmentation\\model.py:22:4: W0102: Dangerous default value {} as argument (dangerous-default-value)\n",
      "suim_segmentation\\model.py:22:4: R0913: Too many arguments (9/5) (too-many-arguments)\n",
      "suim_segmentation\\model.py:58:4: C0116: Missing function or method docstring (missing-function-docstring)\n",
      "suim_segmentation\\model.py:58:22: C0103: Argument name \"x\" doesn't conform to snake_case naming style (invalid-name)\n",
      "suim_segmentation\\model.py:62:12: C0103: Argument name \"x\" doesn't conform to snake_case naming style (invalid-name)\n",
      "suim_segmentation\\model.py:72:14: C0103: Argument name \"x\" doesn't conform to snake_case naming style (invalid-name)\n",
      "suim_segmentation\\model.py:82:0: C0115: Missing class docstring (missing-class-docstring)\n",
      "suim_segmentation\\model.py:90:4: C0116: Missing function or method docstring (missing-function-docstring)\n",
      "suim_segmentation\\model.py:90:22: C0103: Argument name \"x\" doesn't conform to snake_case naming style (invalid-name)\n",
      "suim_segmentation\\model.py:97:0: C0115: Missing class docstring (missing-class-docstring)\n",
      "suim_segmentation\\model.py:114:4: C0116: Missing function or method docstring (missing-function-docstring)\n",
      "suim_segmentation\\model.py:114:22: C0103: Argument name \"x\" doesn't conform to snake_case naming style (invalid-name)\n",
      "suim_segmentation\\model.py:127:4: C0116: Missing function or method docstring (missing-function-docstring)\n",
      "suim_segmentation\\model.py:127:22: C0103: Argument name \"x\" doesn't conform to snake_case naming style (invalid-name)\n",
      "suim_segmentation\\model.py:154:0: C0115: Missing class docstring (missing-class-docstring)\n",
      "suim_segmentation\\model.py:164:4: C0116: Missing function or method docstring (missing-function-docstring)\n",
      "suim_segmentation\\model.py:170:8: C0103: Variable name \"y\" doesn't conform to snake_case naming style (invalid-name)\n",
      "suim_segmentation\\model.py:175:8: C0103: Variable name \"y\" doesn't conform to snake_case naming style (invalid-name)\n",
      "suim_segmentation\\model.py:179:0: C0115: Missing class docstring (missing-class-docstring)\n",
      "suim_segmentation\\model.py:193:8: C0103: Attribute name \"c6\" doesn't conform to snake_case naming style (invalid-name)\n",
      "suim_segmentation\\model.py:196:8: C0103: Attribute name \"c7\" doesn't conform to snake_case naming style (invalid-name)\n",
      "suim_segmentation\\model.py:202:8: C0103: Attribute name \"c8\" doesn't conform to snake_case naming style (invalid-name)\n",
      "suim_segmentation\\model.py:180:4: W0102: Dangerous default value [] as argument (dangerous-default-value)\n",
      "suim_segmentation\\model.py:180:4: W0102: Dangerous default value [] as argument (dangerous-default-value)\n",
      "suim_segmentation\\model.py:215:4: C0116: Missing function or method docstring (missing-function-docstring)\n",
      "suim_segmentation\\model.py:215:22: C0103: Argument name \"x\" doesn't conform to snake_case naming style (invalid-name)\n",
      "suim_segmentation\\model.py:236:8: C0103: Variable name \"y\" doesn't conform to snake_case naming style (invalid-name)\n",
      "suim_segmentation\\model.py:240:0: C0115: Missing class docstring (missing-class-docstring)\n",
      "************* Module suim_segmentation.trainer\n",
      "suim_segmentation\\trainer.py:1:0: C0114: Missing module docstring (missing-module-docstring)\n",
      "suim_segmentation\\trainer.py:9:0: C0115: Missing class docstring (missing-class-docstring)\n",
      "suim_segmentation\\trainer.py:9:0: R0902: Too many instance attributes (8/7) (too-many-instance-attributes)\n",
      "suim_segmentation\\trainer.py:32:4: C0116: Missing function or method docstring (missing-function-docstring)\n",
      "suim_segmentation\\trainer.py:38:18: C0103: Variable name \"x\" doesn't conform to snake_case naming style (invalid-name)\n",
      "suim_segmentation\\trainer.py:38:21: C0103: Variable name \"y\" doesn't conform to snake_case naming style (invalid-name)\n",
      "suim_segmentation\\trainer.py:39:12: C0103: Variable name \"x\" doesn't conform to snake_case naming style (invalid-name)\n",
      "suim_segmentation\\trainer.py:39:15: C0103: Variable name \"y\" doesn't conform to snake_case naming style (invalid-name)\n",
      "suim_segmentation\\trainer.py:40:12: C0103: Variable name \"yp\" doesn't conform to snake_case naming style (invalid-name)\n",
      "suim_segmentation\\trainer.py:60:12: C0103: Variable name \"e\" doesn't conform to snake_case naming style (invalid-name)\n",
      "suim_segmentation\\trainer.py:61:18: W1309: Using an f-string that does not have any interpolated variables (f-string-without-interpolation)\n",
      "suim_segmentation\\trainer.py:66:18: W1309: Using an f-string that does not have any interpolated variables (f-string-without-interpolation)\n",
      "suim_segmentation\\trainer.py:73:18: W1309: Using an f-string that does not have any interpolated variables (f-string-without-interpolation)\n",
      "suim_segmentation\\trainer.py:60:12: W0612: Unused variable 'e' (unused-variable)\n",
      "\n",
      "------------------------------------------------------------------\n",
      "Your code has been rated at 6.31/10 (previous run: 6.31/10, +0.00)\n",
      "\n"
     ]
    }
   ],
   "source": [
    "! python -m pylint suim_segmentation"
   ]
  },
  {
   "cell_type": "markdown",
   "id": "5fdf2af7-b1c0-44ae-a1cd-5be208025b99",
   "metadata": {},
   "source": [
    "### 1.2 Форматируем код с помощью [`black`](https://github.com/psf/black)\n",
    "Часть ошибок форматирования можно поправить автоматически с помощью black.\n",
    "`pip install black`\n",
    "\n",
    "Форматирование: `python -m black suim_segmentation/`"
   ]
  },
  {
   "cell_type": "code",
   "execution_count": 13,
   "id": "1c64f984-69ab-4222-85a6-664a253c97fa",
   "metadata": {},
   "outputs": [
    {
     "name": "stderr",
     "output_type": "stream",
     "text": [
      "Usage: python -m black [OPTIONS] SRC ...\n",
      "Try 'python -m black -h' for help.\n",
      "\n",
      "Error: Invalid value for 'SRC ...': Path 'src/suim_segmentation' does not exist.\n"
     ]
    }
   ],
   "source": [
    "! python -m black src/suim_segmentation"
   ]
  },
  {
   "cell_type": "code",
   "execution_count": 14,
   "id": "34f11984-0cbb-4599-9467-949a2bdae81e",
   "metadata": {},
   "outputs": [
    {
     "name": "stdout",
     "output_type": "stream",
     "text": [
      "************* Module suim_segmentation.data\n",
      "suim_segmentation\\data.py:43:0: C0301: Line too long (135/100) (line-too-long)\n",
      "suim_segmentation\\data.py:44:0: C0301: Line too long (129/100) (line-too-long)\n",
      "suim_segmentation\\data.py:58:0: C0325: Unnecessary parens after 'not' keyword (superfluous-parens)\n",
      "suim_segmentation\\data.py:1:0: C0114: Missing module docstring (missing-module-docstring)\n",
      "suim_segmentation\\data.py:13:0: W0404: Reimport 'Tuple' (imported line 3) (reimported)\n",
      "suim_segmentation\\data.py:13:0: W0404: Reimport 'List' (imported line 3) (reimported)\n",
      "suim_segmentation\\data.py:14:0: W0404: Reimport 'Image' (imported line 7) (reimported)\n",
      "suim_segmentation\\data.py:15:0: W0404: Reimport 'transforms' (imported line 9) (reimported)\n",
      "suim_segmentation\\data.py:19:0: C0115: Missing class docstring (missing-class-docstring)\n",
      "suim_segmentation\\data.py:116:35: E1101: Module 'torch' has no 'uint8' member (no-member)\n",
      "suim_segmentation\\data.py:122:0: C0115: Missing class docstring (missing-class-docstring)\n",
      "suim_segmentation\\data.py:127:8: C0103: Attribute name \"n\" doesn't conform to snake_case naming style (invalid-name)\n",
      "suim_segmentation\\data.py:138:8: R1705: Unnecessary \"else\" after \"return\", remove the \"else\" and de-indent the code inside it (no-else-return)\n",
      "suim_segmentation\\data.py:141:12: C0103: Variable name \"x\" doesn't conform to snake_case naming style (invalid-name)\n",
      "suim_segmentation\\data.py:13:0: C0411: standard import \"from typing import Tuple, List\" should be placed before \"import numpy as np\" (wrong-import-order)\n",
      "suim_segmentation\\data.py:14:0: C0412: Imports from package PIL are not grouped (ungrouped-imports)\n",
      "suim_segmentation\\data.py:15:0: C0412: Imports from package torchvision are not grouped (ungrouped-imports)\n",
      "************* Module suim_segmentation.loss\n",
      "suim_segmentation\\loss.py:1:0: C0114: Missing module docstring (missing-module-docstring)\n",
      "suim_segmentation\\loss.py:5:0: C0115: Missing class docstring (missing-class-docstring)\n",
      "suim_segmentation\\loss.py:13:12: C0103: Variable name \"b\" doesn't conform to snake_case naming style (invalid-name)\n",
      "suim_segmentation\\loss.py:13:28: C0103: Variable name \"h\" doesn't conform to snake_case naming style (invalid-name)\n",
      "suim_segmentation\\loss.py:13:31: C0103: Variable name \"w\" doesn't conform to snake_case naming style (invalid-name)\n",
      "suim_segmentation\\loss.py:18:8: C0103: Variable name \"tp\" doesn't conform to snake_case naming style (invalid-name)\n",
      "suim_segmentation\\loss.py:19:8: C0103: Variable name \"fp\" doesn't conform to snake_case naming style (invalid-name)\n",
      "suim_segmentation\\loss.py:20:8: C0103: Variable name \"fn\" doesn't conform to snake_case naming style (invalid-name)\n",
      "suim_segmentation\\loss.py:13:12: W0612: Unused variable 'b' (unused-variable)\n",
      "suim_segmentation\\loss.py:13:28: W0612: Unused variable 'h' (unused-variable)\n",
      "suim_segmentation\\loss.py:13:31: W0612: Unused variable 'w' (unused-variable)\n",
      "suim_segmentation\\loss.py:2:0: W0611: Unused nn imported from torch (unused-import)\n",
      "************* Module suim_segmentation.metrics\n",
      "suim_segmentation\\metrics.py:1:0: C0114: Missing module docstring (missing-module-docstring)\n",
      "suim_segmentation\\metrics.py:5:0: C0115: Missing class docstring (missing-class-docstring)\n",
      "suim_segmentation\\metrics.py:6:4: C0116: Missing function or method docstring (missing-function-docstring)\n",
      "suim_segmentation\\metrics.py:7:20: E1101: Module 'torch' has no 'argmax' member (no-member)\n",
      "suim_segmentation\\metrics.py:8:8: C0103: Variable name \"tp\" doesn't conform to snake_case naming style (invalid-name)\n",
      "************* Module suim_segmentation.model\n",
      "suim_segmentation\\model.py:1:0: C0114: Missing module docstring (missing-module-docstring)\n",
      "suim_segmentation\\model.py:7:0: C0115: Missing class docstring (missing-class-docstring)\n",
      "suim_segmentation\\model.py:10:8: C0103: Attribute name \"md\" doesn't conform to snake_case naming style (invalid-name)\n",
      "suim_segmentation\\model.py:12:4: C0116: Missing function or method docstring (missing-function-docstring)\n",
      "suim_segmentation\\model.py:12:22: C0103: Argument name \"x\" doesn't conform to snake_case naming style (invalid-name)\n",
      "suim_segmentation\\model.py:13:8: C0103: Variable name \"c1\" doesn't conform to snake_case naming style (invalid-name)\n",
      "suim_segmentation\\model.py:14:8: C0103: Variable name \"c2\" doesn't conform to snake_case naming style (invalid-name)\n",
      "suim_segmentation\\model.py:15:8: C0103: Variable name \"c3\" doesn't conform to snake_case naming style (invalid-name)\n",
      "suim_segmentation\\model.py:16:8: C0103: Variable name \"c4\" doesn't conform to snake_case naming style (invalid-name)\n",
      "suim_segmentation\\model.py:17:8: C0103: Variable name \"c5\" doesn't conform to snake_case naming style (invalid-name)\n",
      "suim_segmentation\\model.py:21:0: C0115: Missing class docstring (missing-class-docstring)\n",
      "suim_segmentation\\model.py:22:4: W0102: Dangerous default value {} as argument (dangerous-default-value)\n",
      "suim_segmentation\\model.py:22:4: W0102: Dangerous default value {} as argument (dangerous-default-value)\n",
      "suim_segmentation\\model.py:22:4: R0913: Too many arguments (9/5) (too-many-arguments)\n",
      "suim_segmentation\\model.py:58:4: C0116: Missing function or method docstring (missing-function-docstring)\n",
      "suim_segmentation\\model.py:58:22: C0103: Argument name \"x\" doesn't conform to snake_case naming style (invalid-name)\n",
      "suim_segmentation\\model.py:62:12: C0103: Argument name \"x\" doesn't conform to snake_case naming style (invalid-name)\n",
      "suim_segmentation\\model.py:72:14: C0103: Argument name \"x\" doesn't conform to snake_case naming style (invalid-name)\n",
      "suim_segmentation\\model.py:82:0: C0115: Missing class docstring (missing-class-docstring)\n",
      "suim_segmentation\\model.py:90:4: C0116: Missing function or method docstring (missing-function-docstring)\n",
      "suim_segmentation\\model.py:90:22: C0103: Argument name \"x\" doesn't conform to snake_case naming style (invalid-name)\n",
      "suim_segmentation\\model.py:97:0: C0115: Missing class docstring (missing-class-docstring)\n",
      "suim_segmentation\\model.py:114:4: C0116: Missing function or method docstring (missing-function-docstring)\n",
      "suim_segmentation\\model.py:114:22: C0103: Argument name \"x\" doesn't conform to snake_case naming style (invalid-name)\n",
      "suim_segmentation\\model.py:127:4: C0116: Missing function or method docstring (missing-function-docstring)\n",
      "suim_segmentation\\model.py:127:22: C0103: Argument name \"x\" doesn't conform to snake_case naming style (invalid-name)\n",
      "suim_segmentation\\model.py:154:0: C0115: Missing class docstring (missing-class-docstring)\n",
      "suim_segmentation\\model.py:164:4: C0116: Missing function or method docstring (missing-function-docstring)\n",
      "suim_segmentation\\model.py:170:8: C0103: Variable name \"y\" doesn't conform to snake_case naming style (invalid-name)\n",
      "suim_segmentation\\model.py:175:8: C0103: Variable name \"y\" doesn't conform to snake_case naming style (invalid-name)\n",
      "suim_segmentation\\model.py:179:0: C0115: Missing class docstring (missing-class-docstring)\n",
      "suim_segmentation\\model.py:193:8: C0103: Attribute name \"c6\" doesn't conform to snake_case naming style (invalid-name)\n",
      "suim_segmentation\\model.py:196:8: C0103: Attribute name \"c7\" doesn't conform to snake_case naming style (invalid-name)\n",
      "suim_segmentation\\model.py:202:8: C0103: Attribute name \"c8\" doesn't conform to snake_case naming style (invalid-name)\n",
      "suim_segmentation\\model.py:180:4: W0102: Dangerous default value [] as argument (dangerous-default-value)\n",
      "suim_segmentation\\model.py:180:4: W0102: Dangerous default value [] as argument (dangerous-default-value)\n",
      "suim_segmentation\\model.py:215:4: C0116: Missing function or method docstring (missing-function-docstring)\n",
      "suim_segmentation\\model.py:215:22: C0103: Argument name \"x\" doesn't conform to snake_case naming style (invalid-name)\n",
      "suim_segmentation\\model.py:236:8: C0103: Variable name \"y\" doesn't conform to snake_case naming style (invalid-name)\n",
      "suim_segmentation\\model.py:240:0: C0115: Missing class docstring (missing-class-docstring)\n",
      "************* Module suim_segmentation.trainer\n",
      "suim_segmentation\\trainer.py:1:0: C0114: Missing module docstring (missing-module-docstring)\n",
      "suim_segmentation\\trainer.py:9:0: C0115: Missing class docstring (missing-class-docstring)\n",
      "suim_segmentation\\trainer.py:9:0: R0902: Too many instance attributes (8/7) (too-many-instance-attributes)\n",
      "suim_segmentation\\trainer.py:32:4: C0116: Missing function or method docstring (missing-function-docstring)\n",
      "suim_segmentation\\trainer.py:38:18: C0103: Variable name \"x\" doesn't conform to snake_case naming style (invalid-name)\n",
      "suim_segmentation\\trainer.py:38:21: C0103: Variable name \"y\" doesn't conform to snake_case naming style (invalid-name)\n",
      "suim_segmentation\\trainer.py:39:12: C0103: Variable name \"x\" doesn't conform to snake_case naming style (invalid-name)\n",
      "suim_segmentation\\trainer.py:39:15: C0103: Variable name \"y\" doesn't conform to snake_case naming style (invalid-name)\n",
      "suim_segmentation\\trainer.py:40:12: C0103: Variable name \"yp\" doesn't conform to snake_case naming style (invalid-name)\n",
      "suim_segmentation\\trainer.py:60:12: C0103: Variable name \"e\" doesn't conform to snake_case naming style (invalid-name)\n",
      "suim_segmentation\\trainer.py:61:18: W1309: Using an f-string that does not have any interpolated variables (f-string-without-interpolation)\n",
      "suim_segmentation\\trainer.py:66:18: W1309: Using an f-string that does not have any interpolated variables (f-string-without-interpolation)\n",
      "suim_segmentation\\trainer.py:73:18: W1309: Using an f-string that does not have any interpolated variables (f-string-without-interpolation)\n",
      "suim_segmentation\\trainer.py:60:12: W0612: Unused variable 'e' (unused-variable)\n",
      "\n",
      "------------------------------------------------------------------\n",
      "Your code has been rated at 6.31/10 (previous run: 6.31/10, +0.00)\n",
      "\n"
     ]
    }
   ],
   "source": [
    "! python -m pylint suim_segmentation"
   ]
  },
  {
   "cell_type": "markdown",
   "id": "a24f24f1-c7d4-4f34-a38e-95312dc9b5da",
   "metadata": {},
   "source": [
    "### 1.3 Тюним правил PEP-8 под свой проект\n",
    "Для pylint можно создать набор правил и указать его в `pyproject.toml`"
   ]
  },
  {
   "cell_type": "code",
   "execution_count": 15,
   "id": "ada0d969-af06-48a3-8896-48a2a78cfb57",
   "metadata": {},
   "outputs": [],
   "source": [
    "assert ROOT_PATH.exists()"
   ]
  },
  {
   "cell_type": "code",
   "execution_count": 16,
   "id": "49469e31-c112-427b-b013-5331c8ff36e1",
   "metadata": {},
   "outputs": [
    {
     "name": "stdout",
     "output_type": "stream",
     "text": [
      "Overwriting D:\\edu\\course_cvdl\\classes\\c04\\src\\pyproject.toml\n"
     ]
    }
   ],
   "source": [
    "%%writefile {str(ROOT_PATH / 'src' / 'pyproject.toml')}\n",
    "\n",
    "[project]\n",
    "name = \"suim_segmentation\"\n",
    "description = \"ML project example package\"\n",
    "version = \"0.1.0\"\n",
    "\n",
    "[tool.pylint]\n",
    "generated-members = \"numpy.*, torch.*\"\n",
    "good-names = \"i,j,k,tp,fp,fn\"\n",
    "max-line-length = 128"
   ]
  },
  {
   "cell_type": "code",
   "execution_count": 17,
   "id": "708a19f0-ee86-46f4-9219-5ac4553fbd49",
   "metadata": {},
   "outputs": [
    {
     "name": "stdout",
     "output_type": "stream",
     "text": [
      "D:\\edu\\course_cvdl\\classes\\c04\\src\n"
     ]
    }
   ],
   "source": [
    "cd {ROOT_PATH/\"src\"}"
   ]
  },
  {
   "cell_type": "code",
   "execution_count": 18,
   "id": "9e8af41f-f33f-40a9-94b0-9c4aff846dc7",
   "metadata": {},
   "outputs": [
    {
     "name": "stdout",
     "output_type": "stream",
     "text": [
      "************* Module suim_segmentation.data\n",
      "suim_segmentation\\data.py:43:0: C0301: Line too long (135/128) (line-too-long)\n",
      "suim_segmentation\\data.py:44:0: C0301: Line too long (129/128) (line-too-long)\n",
      "suim_segmentation\\data.py:58:0: C0325: Unnecessary parens after 'not' keyword (superfluous-parens)\n",
      "suim_segmentation\\data.py:1:0: C0114: Missing module docstring (missing-module-docstring)\n",
      "suim_segmentation\\data.py:13:0: W0404: Reimport 'Tuple' (imported line 3) (reimported)\n",
      "suim_segmentation\\data.py:13:0: W0404: Reimport 'List' (imported line 3) (reimported)\n",
      "suim_segmentation\\data.py:14:0: W0404: Reimport 'Image' (imported line 7) (reimported)\n",
      "suim_segmentation\\data.py:15:0: W0404: Reimport 'transforms' (imported line 9) (reimported)\n",
      "suim_segmentation\\data.py:19:0: C0115: Missing class docstring (missing-class-docstring)\n",
      "suim_segmentation\\data.py:122:0: C0115: Missing class docstring (missing-class-docstring)\n",
      "suim_segmentation\\data.py:127:8: C0103: Attribute name \"n\" doesn't conform to snake_case naming style (invalid-name)\n",
      "suim_segmentation\\data.py:138:8: R1705: Unnecessary \"else\" after \"return\", remove the \"else\" and de-indent the code inside it (no-else-return)\n",
      "suim_segmentation\\data.py:141:12: C0103: Variable name \"x\" doesn't conform to snake_case naming style (invalid-name)\n",
      "suim_segmentation\\data.py:13:0: C0411: standard import \"from typing import Tuple, List\" should be placed before \"import numpy as np\" (wrong-import-order)\n",
      "suim_segmentation\\data.py:14:0: C0412: Imports from package PIL are not grouped (ungrouped-imports)\n",
      "suim_segmentation\\data.py:15:0: C0412: Imports from package torchvision are not grouped (ungrouped-imports)\n",
      "************* Module suim_segmentation.loss\n",
      "suim_segmentation\\loss.py:1:0: C0114: Missing module docstring (missing-module-docstring)\n",
      "suim_segmentation\\loss.py:5:0: C0115: Missing class docstring (missing-class-docstring)\n",
      "suim_segmentation\\loss.py:13:12: C0103: Variable name \"b\" doesn't conform to snake_case naming style (invalid-name)\n",
      "suim_segmentation\\loss.py:13:28: C0103: Variable name \"h\" doesn't conform to snake_case naming style (invalid-name)\n",
      "suim_segmentation\\loss.py:13:31: C0103: Variable name \"w\" doesn't conform to snake_case naming style (invalid-name)\n",
      "suim_segmentation\\loss.py:13:12: W0612: Unused variable 'b' (unused-variable)\n",
      "suim_segmentation\\loss.py:13:28: W0612: Unused variable 'h' (unused-variable)\n",
      "suim_segmentation\\loss.py:13:31: W0612: Unused variable 'w' (unused-variable)\n",
      "suim_segmentation\\loss.py:2:0: W0611: Unused nn imported from torch (unused-import)\n",
      "************* Module suim_segmentation.metrics\n",
      "suim_segmentation\\metrics.py:1:0: C0114: Missing module docstring (missing-module-docstring)\n",
      "suim_segmentation\\metrics.py:5:0: C0115: Missing class docstring (missing-class-docstring)\n",
      "suim_segmentation\\metrics.py:6:4: C0116: Missing function or method docstring (missing-function-docstring)\n",
      "************* Module suim_segmentation.model\n",
      "suim_segmentation\\model.py:1:0: C0114: Missing module docstring (missing-module-docstring)\n",
      "suim_segmentation\\model.py:7:0: C0115: Missing class docstring (missing-class-docstring)\n",
      "suim_segmentation\\model.py:10:8: C0103: Attribute name \"md\" doesn't conform to snake_case naming style (invalid-name)\n",
      "suim_segmentation\\model.py:12:4: C0116: Missing function or method docstring (missing-function-docstring)\n",
      "suim_segmentation\\model.py:12:22: C0103: Argument name \"x\" doesn't conform to snake_case naming style (invalid-name)\n",
      "suim_segmentation\\model.py:13:8: C0103: Variable name \"c1\" doesn't conform to snake_case naming style (invalid-name)\n",
      "suim_segmentation\\model.py:14:8: C0103: Variable name \"c2\" doesn't conform to snake_case naming style (invalid-name)\n",
      "suim_segmentation\\model.py:15:8: C0103: Variable name \"c3\" doesn't conform to snake_case naming style (invalid-name)\n",
      "suim_segmentation\\model.py:16:8: C0103: Variable name \"c4\" doesn't conform to snake_case naming style (invalid-name)\n",
      "suim_segmentation\\model.py:17:8: C0103: Variable name \"c5\" doesn't conform to snake_case naming style (invalid-name)\n",
      "suim_segmentation\\model.py:21:0: C0115: Missing class docstring (missing-class-docstring)\n",
      "suim_segmentation\\model.py:22:4: W0102: Dangerous default value {} as argument (dangerous-default-value)\n",
      "suim_segmentation\\model.py:22:4: W0102: Dangerous default value {} as argument (dangerous-default-value)\n",
      "suim_segmentation\\model.py:22:4: R0913: Too many arguments (9/5) (too-many-arguments)\n",
      "suim_segmentation\\model.py:58:4: C0116: Missing function or method docstring (missing-function-docstring)\n",
      "suim_segmentation\\model.py:58:22: C0103: Argument name \"x\" doesn't conform to snake_case naming style (invalid-name)\n",
      "suim_segmentation\\model.py:62:12: C0103: Argument name \"x\" doesn't conform to snake_case naming style (invalid-name)\n",
      "suim_segmentation\\model.py:72:14: C0103: Argument name \"x\" doesn't conform to snake_case naming style (invalid-name)\n",
      "suim_segmentation\\model.py:82:0: C0115: Missing class docstring (missing-class-docstring)\n",
      "suim_segmentation\\model.py:90:4: C0116: Missing function or method docstring (missing-function-docstring)\n",
      "suim_segmentation\\model.py:90:22: C0103: Argument name \"x\" doesn't conform to snake_case naming style (invalid-name)\n",
      "suim_segmentation\\model.py:97:0: C0115: Missing class docstring (missing-class-docstring)\n",
      "suim_segmentation\\model.py:114:4: C0116: Missing function or method docstring (missing-function-docstring)\n",
      "suim_segmentation\\model.py:114:22: C0103: Argument name \"x\" doesn't conform to snake_case naming style (invalid-name)\n",
      "suim_segmentation\\model.py:127:4: C0116: Missing function or method docstring (missing-function-docstring)\n",
      "suim_segmentation\\model.py:127:22: C0103: Argument name \"x\" doesn't conform to snake_case naming style (invalid-name)\n",
      "suim_segmentation\\model.py:154:0: C0115: Missing class docstring (missing-class-docstring)\n",
      "suim_segmentation\\model.py:164:4: C0116: Missing function or method docstring (missing-function-docstring)\n",
      "suim_segmentation\\model.py:170:8: C0103: Variable name \"y\" doesn't conform to snake_case naming style (invalid-name)\n",
      "suim_segmentation\\model.py:175:8: C0103: Variable name \"y\" doesn't conform to snake_case naming style (invalid-name)\n",
      "suim_segmentation\\model.py:179:0: C0115: Missing class docstring (missing-class-docstring)\n",
      "suim_segmentation\\model.py:193:8: C0103: Attribute name \"c6\" doesn't conform to snake_case naming style (invalid-name)\n",
      "suim_segmentation\\model.py:196:8: C0103: Attribute name \"c7\" doesn't conform to snake_case naming style (invalid-name)\n",
      "suim_segmentation\\model.py:202:8: C0103: Attribute name \"c8\" doesn't conform to snake_case naming style (invalid-name)\n",
      "suim_segmentation\\model.py:180:4: W0102: Dangerous default value [] as argument (dangerous-default-value)\n",
      "suim_segmentation\\model.py:180:4: W0102: Dangerous default value [] as argument (dangerous-default-value)\n",
      "suim_segmentation\\model.py:215:4: C0116: Missing function or method docstring (missing-function-docstring)\n",
      "suim_segmentation\\model.py:215:22: C0103: Argument name \"x\" doesn't conform to snake_case naming style (invalid-name)\n",
      "suim_segmentation\\model.py:236:8: C0103: Variable name \"y\" doesn't conform to snake_case naming style (invalid-name)\n",
      "suim_segmentation\\model.py:240:0: C0115: Missing class docstring (missing-class-docstring)\n",
      "************* Module suim_segmentation.trainer\n",
      "suim_segmentation\\trainer.py:1:0: C0114: Missing module docstring (missing-module-docstring)\n",
      "suim_segmentation\\trainer.py:9:0: C0115: Missing class docstring (missing-class-docstring)\n",
      "suim_segmentation\\trainer.py:9:0: R0902: Too many instance attributes (8/7) (too-many-instance-attributes)\n",
      "suim_segmentation\\trainer.py:32:4: C0116: Missing function or method docstring (missing-function-docstring)\n",
      "suim_segmentation\\trainer.py:38:18: C0103: Variable name \"x\" doesn't conform to snake_case naming style (invalid-name)\n",
      "suim_segmentation\\trainer.py:38:21: C0103: Variable name \"y\" doesn't conform to snake_case naming style (invalid-name)\n",
      "suim_segmentation\\trainer.py:39:12: C0103: Variable name \"x\" doesn't conform to snake_case naming style (invalid-name)\n",
      "suim_segmentation\\trainer.py:39:15: C0103: Variable name \"y\" doesn't conform to snake_case naming style (invalid-name)\n",
      "suim_segmentation\\trainer.py:40:12: C0103: Variable name \"yp\" doesn't conform to snake_case naming style (invalid-name)\n",
      "suim_segmentation\\trainer.py:60:12: C0103: Variable name \"e\" doesn't conform to snake_case naming style (invalid-name)\n",
      "suim_segmentation\\trainer.py:61:18: W1309: Using an f-string that does not have any interpolated variables (f-string-without-interpolation)\n",
      "suim_segmentation\\trainer.py:66:18: W1309: Using an f-string that does not have any interpolated variables (f-string-without-interpolation)\n",
      "suim_segmentation\\trainer.py:73:18: W1309: Using an f-string that does not have any interpolated variables (f-string-without-interpolation)\n",
      "suim_segmentation\\trainer.py:60:12: W0612: Unused variable 'e' (unused-variable)\n",
      "\n",
      "------------------------------------------------------------------\n",
      "Your code has been rated at 6.85/10 (previous run: 6.31/10, +0.54)\n",
      "\n"
     ]
    }
   ],
   "source": [
    "! python -m pylint suim_segmentation"
   ]
  },
  {
   "cell_type": "markdown",
   "id": "b9badc7b-85be-4d53-808f-7bc330500f92",
   "metadata": {},
   "source": [
    "### 1.4 Пишем \"точку входа\" в пайплайн (скрипт обучения) \n",
    "Собираем код с прошлого занятия для запуска пайплайна"
   ]
  },
  {
   "cell_type": "code",
   "execution_count": 19,
   "id": "b08e829a-4e23-498d-be97-8b2c337d6080",
   "metadata": {},
   "outputs": [
    {
     "name": "stdout",
     "output_type": "stream",
     "text": [
      "Writing D:\\edu\\course_cvdl\\classes\\c04\\src\\suim_segmentation\\run.py\n"
     ]
    }
   ],
   "source": [
    "%%writefile {str(ROOT_PATH / 'src' / 'suim_segmentation' / 'run.py')}\n",
    "\n",
    "import argparse\n",
    "from pathlib import Path\n",
    "\n",
    "import torch\n",
    "from torch.utils import data as tdata\n",
    "from tqdm import tqdm\n",
    "\n",
    "from .data import SuimDataset, EveryNthFilterSampler\n",
    "from .model import SuimModel\n",
    "from .loss import DiceLoss\n",
    "from .metrics import Accuracy\n",
    "from .trainer import Trainer\n",
    "\n",
    "PROJECT_NAME = 'suim_segmentation'\n",
    "\n",
    "\n",
    "def run_pipeline(args):\n",
    "    device = torch.device(args.device)\n",
    "    model = SuimModel().to(device)\n",
    "    opt = torch.optim.Adam(model.parameters(), lr=args.lr)\n",
    "\n",
    "    train_val_ds = SuimDataset(\n",
    "        Path(args.train_data), masks_as_color=False, target_size=(256, 256)\n",
    "    )\n",
    "    test_ds = SuimDataset(\n",
    "        Path(args.test_data), masks_as_color=False, target_size=(256, 256)\n",
    "    )\n",
    "    test_iter = tdata.DataLoader(test_ds, batch_size=args.batch_size, shuffle=False)\n",
    "    train_iter = tdata.DataLoader(\n",
    "        train_val_ds,\n",
    "        batch_size=args.batch_size,\n",
    "        sampler=EveryNthFilterSampler(\n",
    "            dataset_size=len(train_val_ds), n=5, pass_every_nth=False, shuffle=True\n",
    "        ),\n",
    "    )\n",
    "    val_iter = tdata.DataLoader(\n",
    "        train_val_ds,\n",
    "        batch_size=args.batch_size,\n",
    "        sampler=EveryNthFilterSampler(\n",
    "            dataset_size=len(train_val_ds), n=5, pass_every_nth=True, shuffle=False\n",
    "        ),\n",
    "    )\n",
    "    loss = DiceLoss()\n",
    "    metric = Accuracy()\n",
    "\n",
    "    trainer = Trainer(\n",
    "        net=model,\n",
    "        opt=opt,\n",
    "        train_loader=train_iter,\n",
    "        val_loader=val_iter,\n",
    "        test_loader=test_iter,\n",
    "        loss=loss,\n",
    "        metric=metric,\n",
    "    )\n",
    "    mean = lambda x: sum(x) / len(x)\n",
    "\n",
    "    for e in range(args.num_epochs):\n",
    "        print(f\"Epoch {e}\")\n",
    "        with_testing = (e == args.num_epochs - 1)\n",
    "        epoch_stats = trainer(num_epochs=1, with_testing=with_testing)\n",
    "        train_loss, train_metric = epoch_stats['train'][0]\n",
    "        val_loss, val_metric = epoch_stats['val'][0]\n",
    "        assert isinstance(train_loss, list), type(train_loss)\n",
    "\n",
    "    test_loss, test_metric = epoch_stats['test'][0]\n",
    "\n",
    "\n",
    "def parse_args():\n",
    "    parser = argparse.ArgumentParser()\n",
    "    parser.add_argument(\"--name\", type=str, required=True)\n",
    "    parser.add_argument(\"--train-data\", type=str, required=True)\n",
    "    parser.add_argument(\"--test-data\", type=str, required=True)\n",
    "    parser.add_argument(\"--lr\", type=float, required=True)\n",
    "    parser.add_argument(\"--num-epochs\", type=int, required=True)\n",
    "    parser.add_argument(\"--batch-size\", type=int, default=16)\n",
    "    parser.add_argument(\"--device\", type=str, default='cpu:0')\n",
    "    return parser.parse_args()\n",
    "\n",
    "\n",
    "if __name__ == \"__main__\":\n",
    "    args = parse_args()\n",
    "    run_pipeline(args)\n",
    "    print(\"Finished\")"
   ]
  },
  {
   "cell_type": "code",
   "execution_count": 20,
   "id": "69e40453-1ae4-4085-92f8-de4483b84ce2",
   "metadata": {},
   "outputs": [
    {
     "name": "stdout",
     "output_type": "stream",
     "text": [
      "Epoch 0\n",
      "Training:\n",
      "Stats: Loss=0.86 Metric=0.43\n",
      "Validating:\n",
      "Stats: Loss=0.82 Metric=0.51\n",
      "Testing:\n",
      "Stats: Loss=0.81 Metric=0.56\n",
      "Finished\n"
     ]
    },
    {
     "name": "stderr",
     "output_type": "stream",
     "text": [
      "\n",
      "0it [00:00, ?it/s]\n",
      "1it [00:00,  6.28it/s]\n",
      "3it [00:00,  8.30it/s]\n",
      "6it [00:00, 12.98it/s]\n",
      "8it [00:01,  7.17it/s]\n",
      "10it [00:01,  7.70it/s]\n",
      "12it [00:01,  9.49it/s]\n",
      "14it [00:01,  9.66it/s]\n",
      "17it [00:01, 11.23it/s]\n",
      "19it [00:01, 10.83it/s]\n",
      "22it [00:02, 14.22it/s]\n",
      "24it [00:02, 11.96it/s]\n",
      "26it [00:02,  9.54it/s]\n",
      "28it [00:02, 10.82it/s]\n",
      "30it [00:02, 12.26it/s]\n",
      "32it [00:03, 11.47it/s]\n",
      "34it [00:03,  8.58it/s]\n",
      "37it [00:03, 11.14it/s]\n",
      "39it [00:03, 10.94it/s]\n",
      "41it [00:03, 10.97it/s]\n",
      "44it [00:04, 14.09it/s]\n",
      "46it [00:04, 14.95it/s]\n",
      "48it [00:04, 13.43it/s]\n",
      "50it [00:04, 14.70it/s]\n",
      "52it [00:04, 13.69it/s]\n",
      "55it [00:04, 15.52it/s]\n",
      "57it [00:05, 12.42it/s]\n",
      "61it [00:05, 15.51it/s]\n",
      "63it [00:05, 16.03it/s]\n",
      "65it [00:05, 16.56it/s]\n",
      "67it [00:05, 16.48it/s]\n",
      "69it [00:05, 11.18it/s]\n",
      "71it [00:06, 11.85it/s]\n",
      "73it [00:06, 11.60it/s]\n",
      "75it [00:06, 12.94it/s]\n",
      "77it [00:06, 13.28it/s]\n",
      "80it [00:06, 16.60it/s]\n",
      "83it [00:06, 18.73it/s]\n",
      "86it [00:06, 18.38it/s]\n",
      "88it [00:07, 10.84it/s]\n",
      "90it [00:07,  8.01it/s]\n",
      "92it [00:07,  8.75it/s]\n",
      "94it [00:08,  9.59it/s]\n",
      "97it [00:08, 11.53it/s]\n",
      "99it [00:08, 12.44it/s]\n",
      "101it [00:08, 13.63it/s]\n",
      "103it [00:08, 12.30it/s]\n",
      "105it [00:08, 12.44it/s]\n",
      "107it [00:09,  9.35it/s]\n",
      "110it [00:09, 12.51it/s]\n",
      "113it [00:09, 15.49it/s]\n",
      "115it [00:09, 16.04it/s]\n",
      "118it [00:09, 18.71it/s]\n",
      "121it [00:09, 13.98it/s]\n",
      "123it [00:10, 12.16it/s]\n",
      "125it [00:10, 13.21it/s]\n",
      "127it [00:10, 10.16it/s]\n",
      "130it [00:10, 12.95it/s]\n",
      "132it [00:10, 13.06it/s]\n",
      "134it [00:11, 12.82it/s]\n",
      "136it [00:11, 13.17it/s]\n",
      "139it [00:11, 15.64it/s]\n",
      "141it [00:11, 13.58it/s]\n",
      "143it [00:11, 12.80it/s]\n",
      "146it [00:11, 15.50it/s]\n",
      "148it [00:12,  8.58it/s]\n",
      "150it [00:12,  8.23it/s]\n",
      "152it [00:12,  8.87it/s]\n",
      "154it [00:12,  9.36it/s]\n",
      "156it [00:13, 10.55it/s]\n",
      "158it [00:13,  9.51it/s]\n",
      "160it [00:13, 10.61it/s]\n",
      "162it [00:13,  8.24it/s]\n",
      "164it [00:13,  9.40it/s]\n",
      "166it [00:14,  9.75it/s]\n",
      "169it [00:14, 11.47it/s]\n",
      "172it [00:14,  8.29it/s]\n",
      "174it [00:15,  6.68it/s]\n",
      "176it [00:16,  4.18it/s]\n",
      "177it [00:16,  4.25it/s]\n",
      "179it [00:16,  5.45it/s]\n",
      "181it [00:16,  6.63it/s]\n",
      "182it [00:16,  6.97it/s]\n",
      "184it [00:17,  7.91it/s]\n",
      "186it [00:17,  9.25it/s]\n",
      "188it [00:17, 11.14it/s]\n",
      "191it [00:17, 13.71it/s]\n",
      "193it [00:17, 14.39it/s]\n",
      "195it [00:17, 12.98it/s]\n",
      "197it [00:18, 12.61it/s]\n",
      "199it [00:18, 13.50it/s]\n",
      "201it [00:18, 14.15it/s]\n",
      "203it [00:18, 14.10it/s]\n",
      "205it [00:18, 10.04it/s]\n",
      "207it [00:19,  6.35it/s]\n",
      "209it [00:19,  7.91it/s]\n",
      "211it [00:19,  9.06it/s]\n",
      "214it [00:19, 12.18it/s]\n",
      "217it [00:19, 15.27it/s]\n",
      "220it [00:19, 17.21it/s]\n",
      "223it [00:20, 16.84it/s]\n",
      "225it [00:20, 16.35it/s]\n",
      "228it [00:20, 14.64it/s]\n",
      "230it [00:20, 14.30it/s]\n",
      "233it [00:20, 15.40it/s]\n",
      "235it [00:21,  8.69it/s]\n",
      "238it [00:21, 10.94it/s]\n",
      "241it [00:21, 12.72it/s]\n",
      "243it [00:21, 13.32it/s]\n",
      "245it [00:21, 14.03it/s]\n",
      "247it [00:22, 13.97it/s]\n",
      "249it [00:22, 14.30it/s]\n",
      "252it [00:22, 17.72it/s]\n",
      "255it [00:22, 20.07it/s]\n",
      "259it [00:22, 22.82it/s]\n",
      "262it [00:22, 20.55it/s]\n",
      "265it [00:22, 19.18it/s]\n",
      "268it [00:23, 19.01it/s]\n",
      "271it [00:23, 21.16it/s]\n",
      "274it [00:23, 20.21it/s]\n",
      "279it [00:23, 25.61it/s]\n",
      "282it [00:23, 22.26it/s]\n",
      "285it [00:23, 23.63it/s]\n",
      "288it [00:23, 23.14it/s]\n",
      "291it [00:24, 22.38it/s]\n",
      "294it [00:24, 23.66it/s]\n",
      "297it [00:24, 24.09it/s]\n",
      "301it [00:24, 27.57it/s]\n",
      "304it [00:24, 19.97it/s]\n",
      "309it [00:24, 24.54it/s]\n",
      "312it [00:24, 22.79it/s]\n",
      "315it [00:25, 23.24it/s]\n",
      "319it [00:25, 24.59it/s]\n",
      "322it [00:25, 24.84it/s]\n",
      "325it [00:25, 25.39it/s]\n",
      "328it [00:25, 24.77it/s]\n",
      "332it [00:25, 28.32it/s]\n",
      "335it [00:25, 25.97it/s]\n",
      "340it [00:25, 28.95it/s]\n",
      "343it [00:26, 27.14it/s]\n",
      "347it [00:26, 29.78it/s]\n",
      "351it [00:26, 26.24it/s]\n",
      "356it [00:26, 28.18it/s]\n",
      "359it [00:26, 18.33it/s]\n",
      "364it [00:26, 23.29it/s]\n",
      "367it [00:27, 19.33it/s]\n",
      "372it [00:27, 23.50it/s]\n",
      "375it [00:27, 21.58it/s]\n",
      "379it [00:27, 24.97it/s]\n",
      "382it [00:27, 23.99it/s]\n",
      "386it [00:27, 26.88it/s]\n",
      "389it [00:28, 24.04it/s]\n",
      "394it [00:28, 25.24it/s]\n",
      "397it [00:28, 25.60it/s]\n",
      "400it [00:28, 26.01it/s]\n",
      "403it [00:28, 25.44it/s]\n",
      "406it [00:28, 26.37it/s]\n",
      "410it [00:28, 26.72it/s]\n",
      "413it [00:28, 25.68it/s]\n",
      "416it [00:29, 26.49it/s]\n",
      "419it [00:29, 23.07it/s]\n",
      "422it [00:29, 24.58it/s]\n",
      "426it [00:29, 21.84it/s]\n",
      "429it [00:29, 21.21it/s]\n",
      "433it [00:29, 23.75it/s]\n",
      "437it [00:29, 26.92it/s]\n",
      "440it [00:30, 27.52it/s]\n",
      "443it [00:30, 20.14it/s]\n",
      "447it [00:30, 22.70it/s]\n",
      "450it [00:30, 22.17it/s]\n",
      "454it [00:30, 24.99it/s]\n",
      "457it [00:30, 22.46it/s]\n",
      "461it [00:30, 25.93it/s]\n",
      "464it [00:31, 25.39it/s]\n",
      "469it [00:31, 25.61it/s]\n",
      "472it [00:31, 23.80it/s]\n",
      "476it [00:31, 23.27it/s]\n",
      "480it [00:31, 25.97it/s]\n",
      "483it [00:31, 24.06it/s]\n",
      "486it [00:32, 15.20it/s]\n",
      "488it [00:32, 13.16it/s]\n",
      "490it [00:32, 11.52it/s]\n",
      "492it [00:32, 11.54it/s]\n",
      "495it [00:33, 14.28it/s]\n",
      "498it [00:33, 10.15it/s]\n",
      "500it [00:33, 10.53it/s]\n",
      "502it [00:33, 11.88it/s]\n",
      "506it [00:33, 14.84it/s]\n",
      "508it [00:34, 12.68it/s]\n",
      "511it [00:34, 15.54it/s]\n",
      "514it [00:34, 15.62it/s]\n",
      "517it [00:34, 18.29it/s]\n",
      "520it [00:34, 19.50it/s]\n",
      "523it [00:34, 17.76it/s]\n",
      "526it [00:35, 19.83it/s]\n",
      "529it [00:35, 21.77it/s]\n",
      "533it [00:35, 25.05it/s]\n",
      "536it [00:35, 25.45it/s]\n",
      "539it [00:35, 20.27it/s]\n",
      "543it [00:35, 23.43it/s]\n",
      "546it [00:35, 23.33it/s]\n",
      "552it [00:35, 30.08it/s]\n",
      "556it [00:36, 21.98it/s]\n",
      "560it [00:36, 23.84it/s]\n",
      "565it [00:36, 26.84it/s]\n",
      "568it [00:36, 26.45it/s]\n",
      "572it [00:36, 27.75it/s]\n",
      "576it [00:36, 27.75it/s]\n",
      "579it [00:37, 27.89it/s]\n",
      "583it [00:37, 29.76it/s]\n",
      "587it [00:37, 23.63it/s]\n",
      "590it [00:37, 17.46it/s]\n",
      "593it [00:38, 13.89it/s]\n",
      "597it [00:38, 17.49it/s]\n",
      "600it [00:38, 18.80it/s]\n",
      "604it [00:38, 22.30it/s]\n",
      "609it [00:38, 26.30it/s]\n",
      "614it [00:38, 30.76it/s]\n",
      "618it [00:38, 32.24it/s]\n",
      "623it [00:38, 33.71it/s]\n",
      "627it [00:39, 31.13it/s]\n",
      "631it [00:39, 29.28it/s]\n",
      "635it [00:39, 27.85it/s]\n",
      "639it [00:39, 29.32it/s]\n",
      "643it [00:39, 28.36it/s]\n",
      "646it [00:39, 24.71it/s]\n",
      "649it [00:39, 24.07it/s]\n",
      "654it [00:40, 28.64it/s]\n",
      "657it [00:40, 23.03it/s]\n",
      "660it [00:40, 23.80it/s]\n",
      "663it [00:40, 24.98it/s]\n",
      "666it [00:40, 25.52it/s]\n",
      "669it [00:40, 24.89it/s]\n",
      "673it [00:40, 28.20it/s]\n",
      "677it [00:40, 30.65it/s]\n",
      "681it [00:41, 28.76it/s]\n",
      "684it [00:41, 28.36it/s]\n",
      "687it [00:41, 24.87it/s]\n",
      "690it [00:41, 25.20it/s]\n",
      "693it [00:41, 24.79it/s]\n",
      "696it [00:41, 23.45it/s]\n",
      "701it [00:41, 28.07it/s]\n",
      "706it [00:42, 32.05it/s]\n",
      "710it [00:42, 27.99it/s]\n",
      "714it [00:42, 27.75it/s]\n",
      "717it [00:42, 24.72it/s]\n",
      "721it [00:42, 26.69it/s]\n",
      "724it [00:42, 25.62it/s]\n",
      "727it [00:42, 25.54it/s]\n",
      "731it [00:43, 20.80it/s]\n",
      "734it [00:43, 15.45it/s]\n",
      "737it [00:43, 16.95it/s]\n",
      "739it [00:43, 16.74it/s]\n",
      "742it [00:43, 18.12it/s]\n",
      "745it [00:43, 19.35it/s]\n",
      "748it [00:44, 19.20it/s]\n",
      "754it [00:44, 22.49it/s]\n",
      "757it [00:44, 23.52it/s]\n",
      "762it [00:44, 26.21it/s]\n",
      "768it [00:44, 30.34it/s]\n",
      "772it [00:45, 24.29it/s]\n",
      "777it [00:45, 26.70it/s]\n",
      "782it [00:45, 30.13it/s]\n",
      "786it [00:45, 31.18it/s]\n",
      "790it [00:45, 30.48it/s]\n",
      "794it [00:45, 31.94it/s]\n",
      "799it [00:45, 35.65it/s]\n",
      "803it [00:45, 29.00it/s]\n",
      "807it [00:46, 28.02it/s]\n",
      "811it [00:46, 28.06it/s]\n",
      "814it [00:46, 28.37it/s]\n",
      "817it [00:46, 24.20it/s]\n",
      "823it [00:46, 30.54it/s]\n",
      "827it [00:46, 31.01it/s]\n",
      "831it [00:46, 32.54it/s]\n",
      "835it [00:47, 29.26it/s]\n",
      "840it [00:47, 33.26it/s]\n",
      "844it [00:47, 30.24it/s]\n",
      "848it [00:47, 32.21it/s]\n",
      "852it [00:47, 30.65it/s]\n",
      "856it [00:47, 29.23it/s]\n",
      "860it [00:47, 28.49it/s]\n",
      "864it [00:48, 28.51it/s]\n",
      "867it [00:48, 26.98it/s]\n",
      "872it [00:48, 28.45it/s]\n",
      "876it [00:48, 30.06it/s]\n",
      "880it [00:48, 27.33it/s]\n",
      "883it [00:48, 25.95it/s]\n",
      "886it [00:48, 25.93it/s]\n",
      "889it [00:48, 26.28it/s]\n",
      "894it [00:49, 32.23it/s]\n",
      "898it [00:49, 24.98it/s]\n",
      "903it [00:49, 29.36it/s]\n",
      "907it [00:49, 26.36it/s]\n",
      "912it [00:49, 29.82it/s]\n",
      "916it [00:49, 29.64it/s]\n",
      "920it [00:50, 29.27it/s]\n",
      "924it [00:50, 29.06it/s]\n",
      "928it [00:50, 28.61it/s]\n",
      "931it [00:50, 22.19it/s]\n",
      "935it [00:50, 24.64it/s]\n",
      "938it [00:50, 23.84it/s]\n",
      "941it [00:50, 25.09it/s]\n",
      "944it [00:51, 24.13it/s]\n",
      "947it [00:51, 22.85it/s]\n",
      "951it [00:51, 24.89it/s]\n",
      "954it [00:51, 24.75it/s]\n",
      "959it [00:51, 27.13it/s]\n",
      "962it [00:51, 22.88it/s]\n",
      "966it [00:51, 25.53it/s]\n",
      "970it [00:52, 27.21it/s]\n",
      "973it [00:52, 27.80it/s]\n",
      "976it [00:52, 27.19it/s]\n",
      "979it [00:52, 24.58it/s]\n",
      "982it [00:52, 24.93it/s]\n",
      "985it [00:52, 25.81it/s]\n",
      "988it [00:52, 21.88it/s]\n",
      "992it [00:52, 22.99it/s]\n",
      "995it [00:53, 22.68it/s]\n",
      "999it [00:53, 25.05it/s]\n",
      "1003it [00:53, 26.22it/s]\n",
      "1006it [00:53, 22.54it/s]\n",
      "1010it [00:53, 25.10it/s]\n",
      "1013it [00:53, 21.57it/s]\n",
      "1017it [00:54, 24.85it/s]\n",
      "1021it [00:54, 23.57it/s]\n",
      "1024it [00:54, 22.03it/s]\n",
      "1028it [00:54, 20.12it/s]\n",
      "1031it [00:54, 20.27it/s]\n",
      "1036it [00:54, 25.77it/s]\n",
      "1039it [00:55, 23.73it/s]\n",
      "1043it [00:55, 24.84it/s]\n",
      "1047it [00:55, 27.82it/s]\n",
      "1053it [00:55, 32.74it/s]\n",
      "1057it [00:55, 32.68it/s]\n",
      "1061it [00:55, 31.76it/s]\n",
      "1065it [00:55, 25.89it/s]\n",
      "1069it [00:55, 28.50it/s]\n",
      "1073it [00:56, 26.41it/s]\n",
      "1078it [00:56, 31.47it/s]\n",
      "1082it [00:56, 25.94it/s]\n",
      "1087it [00:56, 27.36it/s]\n",
      "1091it [00:56, 29.61it/s]\n",
      "1095it [00:56, 30.45it/s]\n",
      "1099it [00:57, 24.90it/s]\n",
      "1103it [00:57, 27.86it/s]\n",
      "1108it [00:57, 29.05it/s]\n",
      "1112it [00:57, 29.64it/s]\n",
      "1116it [00:57, 26.64it/s]\n",
      "1120it [00:57, 27.41it/s]\n",
      "1125it [00:57, 31.85it/s]\n",
      "1129it [00:58, 29.09it/s]\n",
      "1133it [00:58, 27.57it/s]\n",
      "1136it [00:58, 25.02it/s]\n",
      "1139it [00:58, 25.28it/s]\n",
      "1144it [00:58, 28.20it/s]\n",
      "1148it [00:58, 29.50it/s]\n",
      "1152it [00:58, 30.31it/s]\n",
      "1156it [00:59, 29.24it/s]\n",
      "1159it [00:59, 27.83it/s]\n",
      "1162it [00:59, 28.15it/s]\n",
      "1165it [00:59, 25.66it/s]\n",
      "1168it [00:59, 26.28it/s]\n",
      "1171it [00:59, 26.29it/s]\n",
      "1174it [00:59, 23.14it/s]\n",
      "1177it [00:59, 22.17it/s]\n",
      "1181it [01:00, 25.82it/s]\n",
      "1184it [01:00, 24.44it/s]\n",
      "1187it [01:00, 21.07it/s]\n",
      "1191it [01:00, 25.15it/s]\n",
      "1194it [01:00, 23.45it/s]\n",
      "1198it [01:00, 23.06it/s]\n",
      "1203it [01:00, 28.12it/s]\n",
      "1207it [01:01, 23.61it/s]\n",
      "1211it [01:01, 24.19it/s]\n",
      "1214it [01:01, 23.68it/s]\n",
      "1218it [01:01, 24.65it/s]\n",
      "1221it [01:01, 24.58it/s]\n",
      "1224it [01:01, 23.56it/s]\n",
      "1227it [01:02, 20.43it/s]\n",
      "1230it [01:02, 21.20it/s]\n",
      "1233it [01:02, 20.80it/s]\n",
      "1236it [01:02, 20.73it/s]\n",
      "1239it [01:02, 19.05it/s]\n",
      "1241it [01:02, 19.09it/s]\n",
      "1246it [01:02, 24.61it/s]\n",
      "1249it [01:03, 20.71it/s]\n",
      "1252it [01:03, 20.90it/s]\n",
      "1255it [01:03, 19.20it/s]\n",
      "1259it [01:03, 22.90it/s]\n",
      "1262it [01:03, 23.34it/s]\n",
      "1266it [01:03, 23.36it/s]\n",
      "1269it [01:04, 22.76it/s]\n",
      "1272it [01:04, 23.14it/s]\n",
      "1276it [01:04, 25.59it/s]\n",
      "1279it [01:04, 25.66it/s]\n",
      "1282it [01:04, 23.53it/s]\n",
      "1285it [01:04, 22.79it/s]\n",
      "1288it [01:04, 18.41it/s]\n",
      "1290it [01:05, 17.53it/s]\n",
      "1293it [01:05, 19.76it/s]\n",
      "1297it [01:05, 22.64it/s]\n",
      "1302it [01:05, 29.01it/s]\n",
      "1306it [01:05, 25.41it/s]\n",
      "1310it [01:05, 28.21it/s]\n",
      "1314it [01:05, 28.26it/s]\n",
      "1319it [01:05, 33.10it/s]\n",
      "1323it [01:06, 31.09it/s]\n",
      "1327it [01:06, 29.27it/s]\n",
      "1331it [01:06, 30.09it/s]\n",
      "1335it [01:06, 25.40it/s]\n",
      "1339it [01:06, 26.89it/s]\n",
      "1344it [01:06, 27.50it/s]\n",
      "1349it [01:07, 30.24it/s]\n",
      "1353it [01:07, 24.39it/s]\n",
      "1356it [01:07, 21.49it/s]\n",
      "1360it [01:07, 24.69it/s]\n",
      "1364it [01:07, 22.32it/s]\n",
      "1369it [01:07, 27.11it/s]\n",
      "1373it [01:08, 25.14it/s]\n",
      "1377it [01:08, 27.72it/s]\n",
      "1381it [01:08, 28.43it/s]\n",
      "1385it [01:08, 25.86it/s]\n",
      "1389it [01:08, 27.70it/s]\n",
      "1392it [01:08, 26.31it/s]\n",
      "1395it [01:08, 22.76it/s]\n",
      "1399it [01:09, 25.62it/s]\n",
      "1403it [01:09, 27.91it/s]\n",
      "1406it [01:09, 24.60it/s]\n",
      "1410it [01:09, 27.14it/s]\n",
      "1413it [01:09, 25.39it/s]\n",
      "1416it [01:09, 24.61it/s]\n",
      "1421it [01:09, 29.58it/s]\n",
      "1425it [01:10, 28.97it/s]\n",
      "1428it [01:10, 28.67it/s]\n",
      "1432it [01:10, 29.45it/s]\n",
      "1435it [01:10, 28.17it/s]\n",
      "1440it [01:10, 33.41it/s]\n",
      "1444it [01:10, 29.00it/s]\n",
      "1448it [01:10, 26.56it/s]\n",
      "1451it [01:11, 23.20it/s]\n",
      "1456it [01:11, 28.89it/s]\n",
      "1460it [01:11, 28.79it/s]\n",
      "1464it [01:11, 29.99it/s]\n",
      "1468it [01:11, 29.56it/s]\n",
      "1472it [01:11, 30.31it/s]\n",
      "1476it [01:11, 26.26it/s]\n",
      "1479it [01:12, 21.75it/s]\n",
      "1482it [01:12, 17.82it/s]\n",
      "1485it [01:12, 19.05it/s]\n",
      "1489it [01:12, 22.45it/s]\n",
      "1492it [01:12, 19.97it/s]\n",
      "1495it [01:12, 21.65it/s]\n",
      "1499it [01:12, 25.26it/s]\n",
      "1502it [01:13, 23.10it/s]\n",
      "1505it [01:13, 22.61it/s]\n",
      "1509it [01:13, 25.34it/s]\n",
      "1512it [01:13, 24.79it/s]\n",
      "1515it [01:13, 22.00it/s]\n",
      "1520it [01:13, 28.33it/s]\n",
      "1525it [01:13, 32.67it/s]\n",
      "1525it [01:13, 20.64it/s]\n",
      "\n",
      "0it [00:00, ?it/s]\n",
      "5it [00:00, 50.00it/s]\n",
      "10it [00:00, 37.79it/s]\n",
      "17it [00:00, 45.53it/s]\n",
      "25it [00:00, 55.39it/s]\n",
      "33it [00:00, 61.06it/s]\n",
      "41it [00:00, 66.82it/s]\n",
      "48it [00:00, 64.46it/s]\n",
      "55it [00:00, 57.67it/s]\n",
      "61it [00:01, 57.83it/s]\n",
      "67it [00:01, 58.42it/s]\n",
      "74it [00:01, 61.17it/s]\n",
      "81it [00:01, 59.61it/s]\n",
      "88it [00:01, 60.96it/s]\n",
      "96it [00:01, 64.29it/s]\n",
      "104it [00:01, 66.44it/s]\n",
      "110it [00:01, 60.81it/s]\n",
      "\n",
      "0it [00:00, ?it/s]\n",
      "1it [00:02,  2.34s/it]\n",
      "2it [00:04,  2.33s/it]\n",
      "3it [00:06,  2.27s/it]\n",
      "4it [00:09,  2.38s/it]\n",
      "5it [00:11,  2.34s/it]\n",
      "6it [00:13,  2.30s/it]\n",
      "7it [00:16,  2.31s/it]\n",
      "8it [00:18,  2.27s/it]\n",
      "9it [00:20,  2.24s/it]\n",
      "10it [00:22,  2.24s/it]\n",
      "11it [00:24,  2.19s/it]\n",
      "12it [00:27,  2.18s/it]\n",
      "13it [00:29,  2.38s/it]\n",
      "14it [00:32,  2.30s/it]\n",
      "15it [00:34,  2.27s/it]\n",
      "16it [00:36,  2.23s/it]\n",
      "17it [00:38,  2.22s/it]\n",
      "18it [00:40,  2.20s/it]\n",
      "19it [00:42,  2.20s/it]\n",
      "20it [00:45,  2.17s/it]\n",
      "21it [00:47,  2.21s/it]\n",
      "22it [00:50,  2.37s/it]\n",
      "23it [00:52,  2.35s/it]\n",
      "24it [00:54,  2.32s/it]\n",
      "25it [00:56,  2.26s/it]\n",
      "26it [00:59,  2.37s/it]\n",
      "27it [01:01,  2.30s/it]\n",
      "28it [01:03,  2.32s/it]\n",
      "29it [01:06,  2.32s/it]\n",
      "30it [01:08,  2.34s/it]\n",
      "31it [01:10,  2.26s/it]\n",
      "32it [01:12,  2.21s/it]\n",
      "33it [01:14,  2.17s/it]\n",
      "34it [01:16,  2.13s/it]\n",
      "35it [01:18,  2.08s/it]\n",
      "36it [01:20,  2.09s/it]\n",
      "37it [01:23,  2.12s/it]\n",
      "38it [01:25,  2.10s/it]\n",
      "39it [01:25,  1.60s/it]\n",
      "39it [01:25,  2.19s/it]\n",
      "\n",
      "0it [00:00, ?it/s]\n",
      "1it [00:00,  1.05it/s]\n",
      "2it [00:01,  1.01s/it]\n",
      "3it [00:03,  1.02s/it]\n",
      "4it [00:04,  1.06s/it]\n",
      "5it [00:05,  1.06s/it]\n",
      "6it [00:06,  1.05s/it]\n",
      "7it [00:07,  1.06s/it]\n",
      "8it [00:08,  1.06s/it]\n",
      "9it [00:09,  1.05s/it]\n",
      "10it [00:10,  1.08it/s]\n",
      "10it [00:10,  1.01s/it]\n",
      "\n",
      "0it [00:00, ?it/s]\n",
      "1it [00:00,  1.05it/s]\n",
      "2it [00:01,  1.00it/s]\n",
      "3it [00:03,  1.04s/it]\n",
      "4it [00:03,  1.19it/s]\n",
      "4it [00:03,  1.11it/s]\n"
     ]
    }
   ],
   "source": [
    "! python -m suim_segmentation.run --name=baseline --lr=0.03 --num-epochs=1 --batch-size=32 --device=cpu:0 \\\n",
    "    --train-data=D:\\edu\\course_cvdl\\classes\\c04\\data\\train_val \\\n",
    "    --test-data=D:\\edu\\course_cvdl\\classes\\c04\\data\\TEST "
   ]
  },
  {
   "cell_type": "markdown",
   "id": "958e2244-ad23-4c86-9cb1-12ba80bb0b48",
   "metadata": {},
   "source": [
    "### Плохая практика 2: \"ручное\" копирование данных\n",
    "\n",
    "- В реальных проектах (индустрия/соревнования) часто используется несколько датасетов, а не один\n",
    "- Они могут быть в разных форматах, а код проекта обычно работает только с одним форматом\n",
    "- Датасет может обновляться - даже у ImageNet есть [version2](https://proceedings.mlr.press/v97/recht19a/recht19a.pdf)\n",
    "- Часто датасет нужен на разных машинах (например, локальной и devbox с GPU)\n",
    "\n",
    "#### **Решение**: \n",
    "Использовать инструменты для управления данными, например - [dvc](https://dvc.org)"
   ]
  },
  {
   "cell_type": "raw",
   "id": "1a87f01d-a1b0-4daa-bb22-35e6c29f55c0",
   "metadata": {},
   "source": [
    "! pip install dvc[gdrive]"
   ]
  },
  {
   "cell_type": "markdown",
   "id": "dfbee11b-59f9-40f6-b01b-9319f40fff79",
   "metadata": {},
   "source": [
    "![dvc scheme was not loaded](dvc_scheme.png \"DVC scheme\")"
   ]
  },
  {
   "cell_type": "markdown",
   "id": "a38f50b2-9f29-4012-945a-1d25f12e1d54",
   "metadata": {},
   "source": [
    "### 2.1 Добавляем google-drive в качестве хранилища\n",
    "\n",
    "https://dvc.org/doc/user-guide/how-to/setup-google-drive-remote"
   ]
  },
  {
   "cell_type": "code",
   "execution_count": 22,
   "id": "b28365f2-95e1-4593-9b39-905ea9826c3b",
   "metadata": {},
   "outputs": [
    {
     "name": "stdout",
     "output_type": "stream",
     "text": [
      "D:\\edu\\course_cvdl\\classes\\c04\\data\n"
     ]
    }
   ],
   "source": [
    "cd {ROOT_PATH}/data"
   ]
  },
  {
   "cell_type": "code",
   "execution_count": 23,
   "id": "15353e68-28fd-4c15-a652-cc7d2a4912c6",
   "metadata": {},
   "outputs": [
    {
     "name": "stdout",
     "output_type": "stream",
     "text": [
      "Initialized DVC repository.\n",
      "\n",
      "You can now commit the changes to git.\n",
      "\n",
      "+---------------------------------------------------------------------+\n",
      "|                                                                     |\n",
      "|        DVC has enabled anonymous aggregate usage analytics.         |\n",
      "|     Read the analytics documentation (and how to opt-out) here:     |\n",
      "|             <https://dvc.org/doc/user-guide/analytics>              |\n",
      "|                                                                     |\n",
      "+---------------------------------------------------------------------+\n",
      "\n",
      "What's next?\n",
      "------------\n",
      "- Check out the documentation: <https://dvc.org/doc>\n",
      "- Get help and share ideas: <https://dvc.org/chat>\n",
      "- Star us on GitHub: <https://github.com/iterative/dvc>\n"
     ]
    }
   ],
   "source": [
    "! dvc init --subdir"
   ]
  },
  {
   "cell_type": "code",
   "execution_count": 24,
   "id": "60543b7a-bba9-427a-abcb-7facaf54b8a6",
   "metadata": {},
   "outputs": [],
   "source": [
    "! dvc remote add mygoogledrive gdrive://1_8FVmJgPW-dwYr8jOe9PQupCEy53WQ4d"
   ]
  },
  {
   "cell_type": "code",
   "execution_count": 25,
   "id": "a2f8e260-8a1e-461f-ba23-c09f3547ff28",
   "metadata": {},
   "outputs": [
    {
     "name": "stdout",
     "output_type": "stream",
     "text": [
      "mygoogledrive\tgdrive://1_8FVmJgPW-dwYr8jOe9PQupCEy53WQ4d\n"
     ]
    }
   ],
   "source": [
    "! dvc remote list"
   ]
  },
  {
   "cell_type": "markdown",
   "id": "f06d2879-dfbe-4252-ad27-6482e8891aa6",
   "metadata": {},
   "source": [
    "Добавим test-данные в индекс dvc"
   ]
  },
  {
   "cell_type": "code",
   "execution_count": 26,
   "id": "f293ce0c-8b84-4b76-b320-74ba89fc9153",
   "metadata": {},
   "outputs": [
    {
     "name": "stdout",
     "output_type": "stream",
     "text": [
      " Volume in drive D is Ext\n",
      " Volume Serial Number is 5670-7B72\n",
      "\n",
      " Directory of D:\\edu\\course_cvdl\\classes\\c04\\data\n",
      "\n",
      "30.09.2023  22:18    <DIR>          .\n",
      "30.09.2023  22:18    <DIR>          ..\n",
      "30.09.2023  22:18    <DIR>          .dvc\n",
      "30.09.2023  22:18               142 .dvcignore\n",
      "30.09.2023  21:18                17 .gitignore\n",
      "30.09.2023  18:28    <DIR>          test\n",
      "30.09.2023  19:23    <DIR>          train_val\n",
      "               2 File(s)            159 bytes\n",
      "               5 Dir(s)  352я169я848я832 bytes free\n"
     ]
    }
   ],
   "source": [
    "ls"
   ]
  },
  {
   "cell_type": "code",
   "execution_count": 27,
   "id": "0cdebe7c-a930-4b83-b08a-cbbf9ced4c0f",
   "metadata": {},
   "outputs": [
    {
     "name": "stdout",
     "output_type": "stream",
     "text": [
      "\n",
      "To track the changes with git, run:\n",
      "\n",
      "\tgit add test.dvc .gitignore\n",
      "\n",
      "To enable auto staging, run:\n",
      "\n",
      "\tdvc config core.autostage true\n"
     ]
    },
    {
     "name": "stderr",
     "output_type": "stream",
     "text": [
      "\\u280b Checking graph\n",
      "\n"
     ]
    }
   ],
   "source": [
    "! dvc add test"
   ]
  },
  {
   "cell_type": "markdown",
   "id": "e0b7b575-4c9f-45bb-ad4f-5a6a9168de35",
   "metadata": {},
   "source": [
    "Отправим данные в хранилище"
   ]
  },
  {
   "cell_type": "code",
   "execution_count": 28,
   "id": "493d5b8b-795d-4f12-bbb2-7adb4cd72fcf",
   "metadata": {},
   "outputs": [
    {
     "name": "stdout",
     "output_type": "stream",
     "text": [
      "551 files pushed\n"
     ]
    }
   ],
   "source": [
    "! dvc push test.dvc --remote=mygoogledrive"
   ]
  },
  {
   "cell_type": "markdown",
   "id": "133ecf6c-1a18-418c-9897-7ef56b261c67",
   "metadata": {},
   "source": [
    "Тперь можно сохранить \"ссылки\" на данные в git.\n",
    "```\n",
    "! git add data/\n",
    "! git commit -m \"Add data with DVC\"\n",
    "```"
   ]
  },
  {
   "cell_type": "markdown",
   "id": "f7063f29-d99e-4f59-9b41-9d976291f6e1",
   "metadata": {},
   "source": [
    "### Плохая практика 3: проведение экспериментов без отслеживания результатов\n",
    "Достижение лучшх результатов в любой ml-задаче требуют множество экспериментов, каждый из которых дает небольшое улучшение (или ухудшение).\n",
    "\n",
    "Результаты экспериментов необходимо сравнивать между собой, чтобы оставлять успешные идеи и отбрасывать неудачные.\n",
    "\n",
    "Простейший (ручной) способ отслеживания экспериментов:\n",
    "- выполнили эксперимент N, запомнили метрики\n",
    "- выполнили эксперимент N+1, сравнили метрики с N, запомнили\n",
    "- выполнили эксперимент N+2, сравнили метрики с N+1, запомнили\n",
    "- ...\n",
    "\n",
    "Главная проблема: **после эксперимента не остаётся следов (артефактов)**\n",
    "\n",
    "Проблемы-следствия:\n",
    "- нельзя сравнить результаты эксперименты N и (N+10) \n",
    "- сложно провести многовариантный, а не бинарный эксперимент\n",
    "- сложно воспроизвести идею N (если она стала снова актуальной)\n",
    "- нужно держать в голове, насколько хорощо/плохо сработала идея когда-то в прошлом\n",
    "\n",
    "**Решение:** Логировать все параметры и результаты эксперимента"
   ]
  },
  {
   "cell_type": "markdown",
   "id": "11748159-56e2-4e75-8922-75a7e0ef4449",
   "metadata": {},
   "source": [
    "### 3.1 Подключаем Weights & Biases\n",
    "https://docs.wandb.ai/quickstart\n",
    "\n",
    "1. Устанавливаем wandb: `! pip install wandb`\n",
    "2. Авторизуемся на `https://wandb.ai/login` (например, через GitHub)\n",
    "3. Заходим на `https://wandb.ai/settings`, копируем ключ из `API keys`\n",
    "4. Выполняем `$ wandb login <YOUR API KEY>` "
   ]
  },
  {
   "cell_type": "markdown",
   "id": "3411b771-f9e1-4b75-974e-55ba88445064",
   "metadata": {},
   "source": [
    "### 3.2 Проверяем wnb"
   ]
  },
  {
   "cell_type": "code",
   "execution_count": 29,
   "id": "c83b3217-f257-4287-ba02-f2b3f259acc3",
   "metadata": {},
   "outputs": [],
   "source": [
    "import wandb"
   ]
  },
  {
   "cell_type": "code",
   "execution_count": 30,
   "id": "5721f289-f938-454c-9b8f-3ad796900f77",
   "metadata": {},
   "outputs": [
    {
     "name": "stderr",
     "output_type": "stream",
     "text": [
      "\u001b[34m\u001b[1mwandb\u001b[0m: Currently logged in as: \u001b[33mzimka\u001b[0m. Use \u001b[1m`wandb login --relogin`\u001b[0m to force relogin\n"
     ]
    },
    {
     "data": {
      "text/html": [
       "Tracking run with wandb version 0.15.11"
      ],
      "text/plain": [
       "<IPython.core.display.HTML object>"
      ]
     },
     "metadata": {},
     "output_type": "display_data"
    },
    {
     "data": {
      "text/html": [
       "Run data is saved locally in <code>D:\\edu\\course_cvdl\\classes\\c04\\data\\wandb\\run-20230930_222154-frxvgexc</code>"
      ],
      "text/plain": [
       "<IPython.core.display.HTML object>"
      ]
     },
     "metadata": {},
     "output_type": "display_data"
    },
    {
     "data": {
      "text/html": [
       "Syncing run <strong><a href='https://wandb.ai/zimka/c04/runs/frxvgexc' target=\"_blank\">second</a></strong> to <a href='https://wandb.ai/zimka/c04' target=\"_blank\">Weights & Biases</a> (<a href='https://wandb.me/run' target=\"_blank\">docs</a>)<br/>"
      ],
      "text/plain": [
       "<IPython.core.display.HTML object>"
      ]
     },
     "metadata": {},
     "output_type": "display_data"
    },
    {
     "data": {
      "text/html": [
       " View project at <a href='https://wandb.ai/zimka/c04' target=\"_blank\">https://wandb.ai/zimka/c04</a>"
      ],
      "text/plain": [
       "<IPython.core.display.HTML object>"
      ]
     },
     "metadata": {},
     "output_type": "display_data"
    },
    {
     "data": {
      "text/html": [
       " View run at <a href='https://wandb.ai/zimka/c04/runs/frxvgexc' target=\"_blank\">https://wandb.ai/zimka/c04/runs/frxvgexc</a>"
      ],
      "text/plain": [
       "<IPython.core.display.HTML object>"
      ]
     },
     "metadata": {},
     "output_type": "display_data"
    },
    {
     "data": {
      "text/html": [
       "<button onClick=\"this.nextSibling.style.display='block';this.style.display='none';\">Display W&B run</button><iframe src='https://wandb.ai/zimka/c04/runs/frxvgexc?jupyter=true' style='border:none;width:100%;height:420px;display:none;'></iframe>"
      ],
      "text/plain": [
       "<wandb.sdk.wandb_run.Run at 0x1f025cca140>"
      ]
     },
     "execution_count": 30,
     "metadata": {},
     "output_type": "execute_result"
    }
   ],
   "source": [
    "wandb.init(project='c04', config={'lr': 0.01, 'foo': 'bar', 'something': True}, name='second')"
   ]
  },
  {
   "cell_type": "markdown",
   "id": "d694c34d-d74c-4a3f-9763-c034e3e59073",
   "metadata": {},
   "source": [
    "Можно логировать численные величины. Каждое вызов log неявно увеличивает внутренний счётчик шагов."
   ]
  },
  {
   "cell_type": "code",
   "execution_count": 31,
   "id": "152b9a60-9163-44e0-8268-4565ac82d575",
   "metadata": {},
   "outputs": [],
   "source": [
    "wandb.log({\"train\": {\"loss\": 0.9, \"metric\": 0.5}, \"val\": {\"loss\": 0.4, \"acc\": 0.8}})"
   ]
  },
  {
   "cell_type": "code",
   "execution_count": 32,
   "id": "d743e0f3-2b53-4cc9-8faf-9f90586e74bc",
   "metadata": {},
   "outputs": [],
   "source": [
    "wandb.log({\"train\": {\"loss\": 0.8, \"metric\": 0.5}, \"val\": {\"loss\": 0.35, \"acc\": 0.8}})"
   ]
  },
  {
   "cell_type": "code",
   "execution_count": 33,
   "id": "44b05a8e-5501-4e76-b37b-1f26a24502b1",
   "metadata": {},
   "outputs": [],
   "source": [
    "wandb.log({\"train\": {\"loss\": 0.75, \"metric\": 0.52}, \"val\": {\"loss\": 0.33, \"acc\": 0.7}})"
   ]
  },
  {
   "cell_type": "code",
   "execution_count": 34,
   "id": "a95bca63-1b30-435e-83cb-5913a3d0798e",
   "metadata": {},
   "outputs": [],
   "source": [
    "wandb.log({\"train\": {\"loss\": 0.74, \"metric\": 0.52}, \"val\": {\"loss\": 0.32, \"acc\": 0.7}})"
   ]
  },
  {
   "cell_type": "markdown",
   "id": "f8a29970-f4fb-446d-afef-a66860eb6711",
   "metadata": {},
   "source": [
    "Можно явно указать шаг, к которому относится запись"
   ]
  },
  {
   "cell_type": "code",
   "execution_count": 35,
   "id": "bc9f2ba3-964e-49ce-bd69-5c011e96929a",
   "metadata": {},
   "outputs": [],
   "source": [
    "wandb.log({\"train\": {\"loss\": 0.74, \"metric\": 0.52}, \"val\": {\"loss\": 0.32, \"acc\": 0.7}}, step=20)"
   ]
  },
  {
   "cell_type": "markdown",
   "id": "b1958c60-07fd-432d-bb1b-77c6d3e3e07a",
   "metadata": {},
   "source": [
    "Каждый вызов log добавляет аргументы во внутреннее состояние и коммитит **предыдущие** значения.\n",
    "\n",
    "Можно считать, что каждый вызов .log - это `git commit` старых данных + `git add` новых данных."
   ]
  },
  {
   "cell_type": "code",
   "execution_count": 36,
   "id": "f0d1ff7d-2913-4fe2-8914-1ed0789639b4",
   "metadata": {},
   "outputs": [],
   "source": [
    "wandb.log({\"train\": {\"loss\": 0.74, \"metric\": 0.52}, \"val\": {\"loss\": 0.32, \"acc\": 0.7}}, step=50)"
   ]
  },
  {
   "cell_type": "markdown",
   "id": "8dfa92a7-8696-4f35-9b4f-eff04e0b55b0",
   "metadata": {},
   "source": [
    "Можно логировать не только численные величины - например, изображения с масками."
   ]
  },
  {
   "cell_type": "code",
   "execution_count": 37,
   "id": "4b8ef787-4b23-4fbc-ac36-c44081fd5dab",
   "metadata": {},
   "outputs": [
    {
     "name": "stderr",
     "output_type": "stream",
     "text": [
      "110it [00:01, 67.53it/s]\n"
     ]
    }
   ],
   "source": [
    "from suim_segmentation.data import SuimDataset\n",
    "\n",
    "test_data = SuimDataset(root=ROOT_PATH / 'data' / 'TEST', masks_as_color=False)"
   ]
  },
  {
   "cell_type": "code",
   "execution_count": 38,
   "id": "cc84f73f-5bd3-4e27-a54d-8c7919ea0fc1",
   "metadata": {},
   "outputs": [],
   "source": [
    "x_img, y_mask = test_data[2]"
   ]
  },
  {
   "cell_type": "code",
   "execution_count": 39,
   "id": "208f3073-a818-495e-9185-9a1abddd7196",
   "metadata": {},
   "outputs": [
    {
     "data": {
      "text/plain": [
       "(('Background(waterbody)', '000'),\n",
       " ('Human divers', '001'),\n",
       " ('Aquatic plants and sea-grass', '010'),\n",
       " ('Wrecks and ruins', '011'),\n",
       " ('Robots (AUVs/ROVs/instruments)', '100'),\n",
       " ('Reefs and invertebrates', '101'),\n",
       " ('Fish and vertebrates', '110'),\n",
       " ('Sea-floor and rocks', '111'))"
      ]
     },
     "execution_count": 39,
     "metadata": {},
     "output_type": "execute_result"
    }
   ],
   "source": [
    "SuimDataset.LABEL_COLORS"
   ]
  },
  {
   "cell_type": "code",
   "execution_count": 40,
   "id": "c0ad66a4-bfda-4784-87b3-39ff0564762b",
   "metadata": {},
   "outputs": [],
   "source": [
    "class_labels = dict(\n",
    "    (num, cls_name) for num, (cls_name, binary_idx) in enumerate(SuimDataset.LABEL_COLORS)\n",
    ")\n",
    "mask_img = wandb.Image(x_img.permute(1, 2, 0).numpy(), masks={\n",
    "  \"predictions\": {\n",
    "    \"mask_data\": y_mask[0].numpy(),\n",
    "    \"class_labels\": class_labels\n",
    "  }\n",
    "})"
   ]
  },
  {
   "cell_type": "code",
   "execution_count": 41,
   "id": "058d7130-4476-4c7b-815e-5c8b08e9f342",
   "metadata": {},
   "outputs": [],
   "source": [
    "wandb.log({\"gt_example\": mask_img})"
   ]
  },
  {
   "cell_type": "markdown",
   "id": "e89c9de1-5587-40cc-8062-d0e72c751b60",
   "metadata": {},
   "source": [
    "Можно добавить ключ-значение в summary"
   ]
  },
  {
   "cell_type": "code",
   "execution_count": 42,
   "id": "8d7e9751-448e-4ba0-8a40-7687198bd816",
   "metadata": {},
   "outputs": [],
   "source": [
    "wandb.run.summary['my_key'] = 'my_important_value'"
   ]
  },
  {
   "cell_type": "code",
   "execution_count": 43,
   "id": "26a0a767-fe2c-4111-b7f3-133b068ab976",
   "metadata": {},
   "outputs": [
    {
     "data": {
      "text/html": [
       "Waiting for W&B process to finish... <strong style=\"color:green\">(success).</strong>"
      ],
      "text/plain": [
       "<IPython.core.display.HTML object>"
      ]
     },
     "metadata": {},
     "output_type": "display_data"
    },
    {
     "data": {
      "text/html": [
       "<style>\n",
       "    table.wandb td:nth-child(1) { padding: 0 10px; text-align: left ; width: auto;} td:nth-child(2) {text-align: left ; width: 100%}\n",
       "    .wandb-row { display: flex; flex-direction: row; flex-wrap: wrap; justify-content: flex-start; width: 100% }\n",
       "    .wandb-col { display: flex; flex-direction: column; flex-basis: 100%; flex: 1; padding: 10px; }\n",
       "    </style>\n",
       "<div class=\"wandb-row\"><div class=\"wandb-col\"><h3>Run summary:</h3><br/><table class=\"wandb\"><tr><td>my_key</td><td>my_important_value</td></tr></table><br/></div></div>"
      ],
      "text/plain": [
       "<IPython.core.display.HTML object>"
      ]
     },
     "metadata": {},
     "output_type": "display_data"
    },
    {
     "data": {
      "text/html": [
       " View run <strong style=\"color:#cdcd00\">second</strong> at: <a href='https://wandb.ai/zimka/c04/runs/frxvgexc' target=\"_blank\">https://wandb.ai/zimka/c04/runs/frxvgexc</a><br/>Synced 5 W&B file(s), 2 media file(s), 0 artifact file(s) and 0 other file(s)"
      ],
      "text/plain": [
       "<IPython.core.display.HTML object>"
      ]
     },
     "metadata": {},
     "output_type": "display_data"
    },
    {
     "data": {
      "text/html": [
       "Find logs at: <code>.\\wandb\\run-20230930_222154-frxvgexc\\logs</code>"
      ],
      "text/plain": [
       "<IPython.core.display.HTML object>"
      ]
     },
     "metadata": {},
     "output_type": "display_data"
    }
   ],
   "source": [
    "wandb.finish()"
   ]
  },
  {
   "cell_type": "markdown",
   "id": "54c64437-2cdb-4694-96d3-b8939b443fcf",
   "metadata": {},
   "source": [
    "### Залогируем параметры и результаты эксперимента\n",
    "Дописать код run.py так, чтобы логировались (как минимум):\n",
    "- Средние train.loss, train.metric, val.loss, val.metric для каждой эпохи\n",
    "- Средние test.loss, test.metric однократно\n"
   ]
  },
  {
   "cell_type": "code",
   "execution_count": 44,
   "id": "74c70376-1566-4024-a075-163f45b7139a",
   "metadata": {},
   "outputs": [
    {
     "name": "stdout",
     "output_type": "stream",
     "text": [
      "Overwriting D:\\edu\\course_cvdl\\classes\\c04\\src\\suim_segmentation\\run.py\n"
     ]
    }
   ],
   "source": [
    "%%writefile {str(ROOT_PATH / 'src' / 'suim_segmentation' / 'run.py')}\n",
    "import wandb\n",
    "import argparse\n",
    "from pathlib import Path\n",
    "\n",
    "import torch\n",
    "from torch.utils import data as tdata\n",
    "from tqdm import tqdm\n",
    "\n",
    "from .data import SuimDataset, EveryNthFilterSampler\n",
    "from .model import SuimModel\n",
    "from .loss import DiceLoss\n",
    "from .metrics import Accuracy\n",
    "from .trainer import Trainer\n",
    "\n",
    "PROJECT_NAME = 'suim_segmentation2023'\n",
    "\n",
    "\n",
    "def run_pipeline(args):\n",
    "    device = torch.device(args.device)\n",
    "    model = SuimModel().to(device)\n",
    "    opt = torch.optim.Adam(model.parameters(), lr=args.lr)\n",
    "\n",
    "    train_val_ds = SuimDataset(\n",
    "        Path(args.train_data), masks_as_color=False, target_size=(256, 256)\n",
    "    )\n",
    "    test_ds = SuimDataset(\n",
    "        Path(args.test_data), masks_as_color=False, target_size=(256, 256)\n",
    "    )\n",
    "    test_iter = tdata.DataLoader(test_ds, batch_size=args.batch_size, shuffle=False)\n",
    "    train_iter = tdata.DataLoader(\n",
    "        train_val_ds,\n",
    "        batch_size=args.batch_size,\n",
    "        sampler=EveryNthFilterSampler(\n",
    "            dataset_size=len(train_val_ds), n=5, pass_every_nth=False, shuffle=True\n",
    "        ),\n",
    "    )\n",
    "    val_iter = tdata.DataLoader(\n",
    "        train_val_ds,\n",
    "        batch_size=args.batch_size,\n",
    "        sampler=EveryNthFilterSampler(\n",
    "            dataset_size=len(train_val_ds), n=5, pass_every_nth=True, shuffle=False\n",
    "        ),\n",
    "    )\n",
    "    loss = DiceLoss()\n",
    "    metric = Accuracy()\n",
    "\n",
    "    trainer = Trainer(\n",
    "        net=model,\n",
    "        opt=opt,\n",
    "        train_loader=train_iter,\n",
    "        val_loader=val_iter,\n",
    "        test_loader=test_iter,\n",
    "        loss=loss,\n",
    "        metric=metric,\n",
    "    )\n",
    "    mean = lambda x: sum(x) / len(x)\n",
    "\n",
    "    wandb.init(\n",
    "        project=PROJECT_NAME, name=args.name,\n",
    "        config=vars(args)\n",
    "    )\n",
    "    for e in range(args.num_epochs):\n",
    "        print(f\"Epoch {e}\")\n",
    "        with_testing = (e == args.num_epochs - 1)\n",
    "        epoch_stats = trainer(num_epochs=1, with_testing=with_testing)\n",
    "        train_loss, train_metric = epoch_stats['train'][0]\n",
    "        val_loss, val_metric = epoch_stats['val'][0]\n",
    "        assert isinstance(train_loss, list), type(train_loss)\n",
    "        wandb.log({\n",
    "            \"train\": {\"loss\": mean(train_loss), \"metric\": mean(train_metric)},\n",
    "            \"val\": {\"loss\": mean(val_loss), \"metric\": mean(val_metric)}\n",
    "        })\n",
    "\n",
    "    test_loss, test_metric = epoch_stats['test'][0]\n",
    "    wandb.summary['test.loss'] = mean(test_loss)\n",
    "    wandb.summary['test.metric'] = mean(test_metric)\n",
    "    wandb.finish()\n",
    "\n",
    "\n",
    "def parse_args():\n",
    "    parser = argparse.ArgumentParser()\n",
    "    parser.add_argument(\"--name\", type=str, required=True)\n",
    "    parser.add_argument(\"--train-data\", type=str, required=True)\n",
    "    parser.add_argument(\"--test-data\", type=str, required=True)\n",
    "    parser.add_argument(\"--lr\", type=float, required=True)\n",
    "    parser.add_argument(\"--num-epochs\", type=int, required=True)\n",
    "    parser.add_argument(\"--batch-size\", type=int, default=16)\n",
    "    parser.add_argument(\"--device\", type=str, default='cpu:0')\n",
    "    return parser.parse_args()\n",
    "\n",
    "\n",
    "if __name__ == \"__main__\":\n",
    "    args = parse_args()\n",
    "    run_pipeline(args)\n",
    "    print(\"Finished\")"
   ]
  },
  {
   "cell_type": "code",
   "execution_count": 45,
   "id": "735326d9-056b-40b5-b2f2-1681c0be1c0f",
   "metadata": {},
   "outputs": [
    {
     "name": "stdout",
     "output_type": "stream",
     "text": [
      "Epoch 0\n",
      "Training:\n",
      "Stats: Loss=0.85 Metric=0.51\n",
      "Validating:\n",
      "Stats: Loss=0.81 Metric=0.56\n",
      "Epoch 1\n",
      "Training:\n",
      "Stats: Loss=0.80 Metric=0.61\n",
      "Validating:\n",
      "Stats: Loss=0.80 Metric=0.56\n",
      "Epoch 2\n",
      "Training:\n",
      "Stats: Loss=0.77 Metric=0.66\n",
      "Validating:\n",
      "Stats: Loss=0.78 Metric=0.63\n",
      "Epoch 3\n",
      "Training:\n",
      "Stats: Loss=0.77 Metric=0.67\n",
      "Validating:\n",
      "Stats: Loss=0.77 Metric=0.66\n",
      "Epoch 4\n",
      "Training:\n",
      "Stats: Loss=0.77 Metric=0.68\n",
      "Validating:\n",
      "Stats: Loss=0.80 Metric=0.51\n",
      "Testing:\n",
      "Stats: Loss=0.78 Metric=0.53\n",
      "Finished\n"
     ]
    },
    {
     "name": "stderr",
     "output_type": "stream",
     "text": [
      "\n",
      "0it [00:00, ?it/s]\n",
      "5it [00:00, 46.29it/s]\n",
      "10it [00:00, 36.70it/s]\n",
      "15it [00:00, 40.99it/s]\n",
      "20it [00:00, 40.08it/s]\n",
      "25it [00:00, 40.40it/s]\n",
      "30it [00:00, 37.68it/s]\n",
      "34it [00:00, 31.68it/s]\n",
      "39it [00:01, 31.60it/s]\n",
      "45it [00:01, 36.81it/s]\n",
      "51it [00:01, 40.00it/s]\n",
      "56it [00:01, 41.24it/s]\n",
      "62it [00:01, 45.32it/s]\n",
      "68it [00:01, 47.80it/s]\n",
      "73it [00:01, 41.21it/s]\n",
      "80it [00:01, 47.82it/s]\n",
      "87it [00:02, 48.76it/s]\n",
      "93it [00:02, 44.53it/s]\n",
      "100it [00:02, 49.62it/s]\n",
      "106it [00:02, 41.96it/s]\n",
      "116it [00:02, 52.76it/s]\n",
      "122it [00:02, 50.33it/s]\n",
      "128it [00:02, 43.82it/s]\n",
      "134it [00:03, 46.55it/s]\n",
      "140it [00:03, 46.95it/s]\n",
      "145it [00:03, 45.92it/s]\n",
      "150it [00:03, 38.90it/s]\n",
      "156it [00:03, 41.71it/s]\n",
      "161it [00:03, 42.37it/s]\n",
      "166it [00:03, 37.49it/s]\n",
      "171it [00:04, 39.37it/s]\n",
      "176it [00:04, 34.43it/s]\n",
      "182it [00:04, 39.06it/s]\n",
      "188it [00:04, 43.68it/s]\n",
      "194it [00:04, 47.65it/s]\n",
      "200it [00:04, 49.85it/s]\n",
      "206it [00:04, 44.05it/s]\n",
      "211it [00:04, 39.70it/s]\n",
      "220it [00:05, 50.36it/s]\n",
      "228it [00:05, 57.50it/s]\n",
      "237it [00:05, 64.59it/s]\n",
      "244it [00:05, 62.22it/s]\n",
      "251it [00:05, 62.78it/s]\n",
      "259it [00:05, 66.17it/s]\n",
      "269it [00:05, 73.04it/s]\n",
      "277it [00:05, 69.77it/s]\n",
      "285it [00:05, 71.93it/s]\n",
      "293it [00:06, 73.34it/s]\n",
      "301it [00:06, 75.00it/s]\n",
      "309it [00:06, 74.72it/s]\n",
      "318it [00:06, 76.88it/s]\n",
      "326it [00:06, 74.59it/s]\n",
      "334it [00:06, 69.50it/s]\n",
      "342it [00:06, 64.54it/s]\n",
      "350it [00:06, 67.78it/s]\n",
      "358it [00:07, 70.09it/s]\n",
      "366it [00:07, 72.19it/s]\n",
      "374it [00:07, 71.96it/s]\n",
      "383it [00:07, 74.69it/s]\n",
      "391it [00:07, 71.78it/s]\n",
      "399it [00:07, 72.25it/s]\n",
      "408it [00:07, 74.86it/s]\n",
      "416it [00:07, 73.86it/s]\n",
      "424it [00:07, 73.13it/s]\n",
      "432it [00:08, 68.24it/s]\n",
      "441it [00:08, 72.08it/s]\n",
      "449it [00:08, 66.04it/s]\n",
      "456it [00:08, 65.71it/s]\n",
      "463it [00:08, 65.46it/s]\n",
      "470it [00:08, 65.38it/s]\n",
      "477it [00:08, 63.68it/s]\n",
      "484it [00:08, 64.87it/s]\n",
      "492it [00:08, 67.57it/s]\n",
      "501it [00:09, 71.64it/s]\n",
      "509it [00:09, 73.98it/s]\n",
      "517it [00:09, 68.82it/s]\n",
      "524it [00:09, 68.04it/s]\n",
      "531it [00:09, 67.65it/s]\n",
      "539it [00:09, 68.79it/s]\n",
      "547it [00:09, 69.40it/s]\n",
      "555it [00:09, 70.77it/s]\n",
      "563it [00:09, 70.02it/s]\n",
      "572it [00:10, 73.12it/s]\n",
      "580it [00:10, 74.81it/s]\n",
      "588it [00:10, 76.06it/s]\n",
      "596it [00:10, 72.22it/s]\n",
      "604it [00:10, 67.97it/s]\n",
      "611it [00:10, 67.61it/s]\n",
      "619it [00:10, 69.29it/s]\n",
      "627it [00:10, 71.26it/s]\n",
      "635it [00:10, 73.29it/s]\n",
      "643it [00:11, 73.12it/s]\n",
      "652it [00:11, 75.75it/s]\n",
      "660it [00:11, 71.32it/s]\n",
      "668it [00:11, 73.08it/s]\n",
      "676it [00:11, 74.39it/s]\n",
      "684it [00:11, 71.33it/s]\n",
      "692it [00:11, 69.87it/s]\n",
      "700it [00:11, 68.36it/s]\n",
      "707it [00:11, 68.80it/s]\n",
      "714it [00:12, 64.49it/s]\n",
      "722it [00:12, 68.30it/s]\n",
      "729it [00:12, 68.77it/s]\n",
      "736it [00:12, 67.59it/s]\n",
      "744it [00:12, 70.71it/s]\n",
      "752it [00:12, 72.96it/s]\n",
      "760it [00:12, 74.78it/s]\n",
      "768it [00:12, 75.21it/s]\n",
      "776it [00:12, 73.39it/s]\n",
      "784it [00:13, 74.43it/s]\n",
      "792it [00:13, 74.53it/s]\n",
      "800it [00:13, 70.82it/s]\n",
      "808it [00:13, 68.44it/s]\n",
      "815it [00:13, 68.49it/s]\n",
      "823it [00:13, 70.50it/s]\n",
      "831it [00:13, 71.17it/s]\n",
      "839it [00:13, 71.64it/s]\n",
      "847it [00:13, 73.77it/s]\n",
      "855it [00:14, 72.25it/s]\n",
      "863it [00:14, 71.23it/s]\n",
      "871it [00:14, 72.06it/s]\n",
      "879it [00:14, 73.46it/s]\n",
      "887it [00:14, 68.88it/s]\n",
      "894it [00:14, 65.98it/s]\n",
      "902it [00:14, 67.74it/s]\n",
      "909it [00:14, 67.62it/s]\n",
      "917it [00:14, 69.32it/s]\n",
      "925it [00:15, 69.40it/s]\n",
      "932it [00:15, 69.18it/s]\n",
      "940it [00:15, 70.84it/s]\n",
      "948it [00:15, 66.64it/s]\n",
      "955it [00:15, 67.36it/s]\n",
      "963it [00:15, 69.70it/s]\n",
      "971it [00:15, 69.47it/s]\n",
      "978it [00:15, 67.38it/s]\n",
      "985it [00:15, 64.53it/s]\n",
      "992it [00:16, 61.50it/s]\n",
      "1000it [00:16, 63.87it/s]\n",
      "1007it [00:16, 64.65it/s]\n",
      "1014it [00:16, 65.93it/s]\n",
      "1021it [00:16, 66.15it/s]\n",
      "1028it [00:16, 66.11it/s]\n",
      "1036it [00:16, 69.48it/s]\n",
      "1044it [00:16, 70.28it/s]\n",
      "1053it [00:16, 73.39it/s]\n",
      "1061it [00:17, 69.74it/s]\n",
      "1069it [00:17, 67.40it/s]\n",
      "1077it [00:17, 69.45it/s]\n",
      "1084it [00:17, 67.94it/s]\n",
      "1092it [00:17, 68.98it/s]\n",
      "1099it [00:17, 66.17it/s]\n",
      "1107it [00:17, 69.00it/s]\n",
      "1114it [00:17, 67.96it/s]\n",
      "1122it [00:17, 69.96it/s]\n",
      "1130it [00:18, 71.58it/s]\n",
      "1138it [00:18, 72.73it/s]\n",
      "1146it [00:18, 67.32it/s]\n",
      "1153it [00:18, 67.86it/s]\n",
      "1161it [00:18, 69.86it/s]\n",
      "1169it [00:18, 71.30it/s]\n",
      "1178it [00:18, 75.29it/s]\n",
      "1186it [00:18, 75.55it/s]\n",
      "1194it [00:18, 75.32it/s]\n",
      "1202it [00:19, 73.91it/s]\n",
      "1210it [00:19, 63.15it/s]\n",
      "1217it [00:19, 60.04it/s]\n",
      "1224it [00:19, 56.46it/s]\n",
      "1230it [00:19, 54.79it/s]\n",
      "1237it [00:19, 56.47it/s]\n",
      "1244it [00:19, 58.73it/s]\n",
      "1250it [00:19, 52.55it/s]\n",
      "1256it [00:20, 52.83it/s]\n",
      "1262it [00:20, 52.77it/s]\n",
      "1268it [00:20, 51.56it/s]\n",
      "1275it [00:20, 53.84it/s]\n",
      "1282it [00:20, 57.19it/s]\n",
      "1289it [00:20, 57.54it/s]\n",
      "1295it [00:20, 56.68it/s]\n",
      "1302it [00:20, 58.55it/s]\n",
      "1310it [00:21, 63.21it/s]\n",
      "1317it [00:21, 64.20it/s]\n",
      "1325it [00:21, 67.50it/s]\n",
      "1333it [00:21, 68.70it/s]\n",
      "1341it [00:21, 71.08it/s]\n",
      "1349it [00:21, 72.18it/s]\n",
      "1357it [00:21, 71.95it/s]\n",
      "1365it [00:21, 68.07it/s]\n",
      "1372it [00:21, 68.04it/s]\n",
      "1379it [00:21, 68.02it/s]\n",
      "1387it [00:22, 70.99it/s]\n",
      "1395it [00:22, 70.93it/s]\n",
      "1403it [00:22, 68.65it/s]\n",
      "1410it [00:22, 68.83it/s]\n",
      "1417it [00:22, 66.54it/s]\n",
      "1424it [00:22, 66.40it/s]\n",
      "1433it [00:22, 71.04it/s]\n",
      "1441it [00:22, 72.14it/s]\n",
      "1450it [00:22, 75.27it/s]\n",
      "1458it [00:23, 74.30it/s]\n",
      "1466it [00:23, 70.00it/s]\n",
      "1474it [00:23, 70.97it/s]\n",
      "1482it [00:23, 71.49it/s]\n",
      "1490it [00:23, 72.63it/s]\n",
      "1498it [00:23, 72.86it/s]\n",
      "1506it [00:23, 72.62it/s]\n",
      "1514it [00:23, 74.06it/s]\n",
      "1522it [00:23, 74.69it/s]\n",
      "1525it [00:24, 63.49it/s]\n",
      "\n",
      "0it [00:00, ?it/s]\n",
      "6it [00:00, 53.57it/s]\n",
      "12it [00:00, 36.12it/s]\n",
      "18it [00:00, 43.85it/s]\n",
      "25it [00:00, 49.42it/s]\n",
      "32it [00:00, 55.33it/s]\n",
      "40it [00:00, 61.28it/s]\n",
      "48it [00:00, 64.90it/s]\n",
      "55it [00:00, 65.81it/s]\n",
      "63it [00:01, 69.55it/s]\n",
      "71it [00:01, 70.34it/s]\n",
      "80it [00:01, 71.87it/s]\n",
      "88it [00:01, 71.93it/s]\n",
      "96it [00:01, 73.57it/s]\n",
      "104it [00:01, 71.15it/s]\n",
      "110it [00:01, 64.25it/s]\n",
      "wandb: Currently logged in as: zimka. Use `wandb login --relogin` to force relogin\n",
      "wandb: - Waiting for wandb.init()...\n",
      "wandb: \\ Waiting for wandb.init()...\n",
      "wandb: Tracking run with wandb version 0.15.11\n",
      "wandb: Run data is saved locally in D:\\edu\\course_cvdl\\classes\\c04\\data\\wandb\\run-20230930_222238-xz7gbm1g\n",
      "wandb: Run `wandb offline` to turn off syncing.\n",
      "wandb: Syncing run baseline\n",
      "wandb:  View project at https://wandb.ai/zimka/suim_segmentation2023\n",
      "wandb:  View run at https://wandb.ai/zimka/suim_segmentation2023/runs/xz7gbm1g\n",
      "\n",
      "0it [00:00, ?it/s]\n",
      "1it [00:02,  2.77s/it]\n",
      "2it [00:04,  2.39s/it]\n",
      "3it [00:07,  2.36s/it]\n",
      "4it [00:09,  2.38s/it]\n",
      "5it [00:11,  2.30s/it]\n",
      "6it [00:14,  2.36s/it]\n",
      "7it [00:16,  2.37s/it]\n",
      "8it [00:18,  2.35s/it]\n",
      "9it [00:21,  2.28s/it]\n",
      "10it [00:23,  2.36s/it]\n",
      "11it [00:26,  2.45s/it]\n",
      "12it [00:28,  2.35s/it]\n",
      "13it [00:30,  2.36s/it]\n",
      "14it [00:33,  2.34s/it]\n",
      "15it [00:35,  2.31s/it]\n",
      "16it [00:37,  2.24s/it]\n",
      "17it [00:40,  2.37s/it]\n",
      "18it [00:42,  2.32s/it]\n",
      "19it [00:44,  2.28s/it]\n",
      "20it [00:46,  2.29s/it]\n",
      "21it [00:49,  2.27s/it]\n",
      "22it [00:51,  2.29s/it]\n",
      "23it [00:53,  2.23s/it]\n",
      "24it [00:55,  2.24s/it]\n",
      "25it [00:57,  2.23s/it]\n",
      "26it [01:00,  2.22s/it]\n",
      "27it [01:02,  2.25s/it]\n",
      "28it [01:04,  2.29s/it]\n",
      "29it [01:07,  2.30s/it]\n",
      "30it [01:09,  2.25s/it]\n",
      "31it [01:11,  2.28s/it]\n",
      "32it [01:13,  2.27s/it]\n",
      "33it [01:16,  2.26s/it]\n",
      "34it [01:18,  2.26s/it]\n",
      "35it [01:21,  2.41s/it]\n",
      "36it [01:23,  2.33s/it]\n",
      "37it [01:25,  2.31s/it]\n",
      "38it [01:27,  2.31s/it]\n",
      "39it [01:28,  1.75s/it]\n",
      "39it [01:28,  2.26s/it]\n",
      "\n",
      "0it [00:00, ?it/s]\n",
      "1it [00:00,  1.04it/s]\n",
      "2it [00:02,  1.05s/it]\n",
      "3it [00:03,  1.11s/it]\n",
      "4it [00:04,  1.11s/it]\n",
      "5it [00:05,  1.09s/it]\n",
      "6it [00:06,  1.10s/it]\n",
      "7it [00:07,  1.08s/it]\n",
      "8it [00:08,  1.06s/it]\n",
      "9it [00:09,  1.06s/it]\n",
      "10it [00:10,  1.06it/s]\n",
      "10it [00:10,  1.03s/it]\n",
      "\n",
      "0it [00:00, ?it/s]\n",
      "1it [00:02,  2.50s/it]\n",
      "2it [00:04,  2.28s/it]\n",
      "3it [00:06,  2.25s/it]\n",
      "4it [00:09,  2.28s/it]\n",
      "5it [00:11,  2.26s/it]\n",
      "6it [00:13,  2.30s/it]\n",
      "7it [00:16,  2.32s/it]\n",
      "8it [00:18,  2.30s/it]\n",
      "9it [00:20,  2.27s/it]\n",
      "10it [00:23,  2.44s/it]\n",
      "11it [00:25,  2.37s/it]\n",
      "12it [00:27,  2.28s/it]\n",
      "13it [00:29,  2.25s/it]\n",
      "14it [00:32,  2.21s/it]\n",
      "15it [00:34,  2.22s/it]\n",
      "16it [00:36,  2.21s/it]\n",
      "17it [00:38,  2.25s/it]\n",
      "18it [00:41,  2.30s/it]\n",
      "19it [00:43,  2.33s/it]\n",
      "20it [00:45,  2.30s/it]\n",
      "21it [00:48,  2.30s/it]\n",
      "22it [00:50,  2.27s/it]\n",
      "23it [00:52,  2.37s/it]\n",
      "24it [00:55,  2.37s/it]\n",
      "25it [00:57,  2.30s/it]\n",
      "26it [00:59,  2.32s/it]\n",
      "27it [01:02,  2.30s/it]\n",
      "28it [01:04,  2.28s/it]\n",
      "29it [01:06,  2.26s/it]\n",
      "30it [01:08,  2.25s/it]\n",
      "31it [01:10,  2.20s/it]\n",
      "32it [01:13,  2.21s/it]\n",
      "33it [01:15,  2.19s/it]\n",
      "34it [01:17,  2.33s/it]\n",
      "35it [01:20,  2.30s/it]\n",
      "36it [01:22,  2.28s/it]\n",
      "37it [01:24,  2.26s/it]\n",
      "38it [01:26,  2.23s/it]\n",
      "39it [01:27,  1.66s/it]\n",
      "39it [01:27,  2.23s/it]\n",
      "\n",
      "0it [00:00, ?it/s]\n",
      "1it [00:01,  1.01s/it]\n",
      "2it [00:02,  1.03s/it]\n",
      "3it [00:03,  1.07s/it]\n",
      "4it [00:04,  1.06s/it]\n",
      "5it [00:05,  1.07s/it]\n",
      "6it [00:06,  1.07s/it]\n",
      "7it [00:07,  1.07s/it]\n",
      "8it [00:08,  1.05s/it]\n",
      "9it [00:09,  1.07s/it]\n",
      "10it [00:10,  1.07it/s]\n",
      "10it [00:10,  1.02s/it]\n",
      "\n",
      "0it [00:00, ?it/s]\n",
      "1it [00:02,  2.16s/it]\n",
      "2it [00:04,  2.18s/it]\n",
      "3it [00:06,  2.20s/it]\n",
      "4it [00:08,  2.19s/it]\n",
      "5it [00:10,  2.17s/it]\n",
      "6it [00:13,  2.18s/it]\n",
      "7it [00:15,  2.20s/it]\n",
      "8it [00:17,  2.24s/it]\n",
      "9it [00:19,  2.20s/it]\n",
      "10it [00:21,  2.18s/it]\n",
      "11it [00:24,  2.16s/it]\n",
      "12it [00:26,  2.21s/it]\n",
      "13it [00:28,  2.27s/it]\n",
      "14it [00:30,  2.25s/it]\n",
      "15it [00:33,  2.31s/it]\n",
      "16it [00:35,  2.36s/it]\n",
      "17it [00:38,  2.29s/it]\n",
      "18it [00:40,  2.39s/it]\n",
      "19it [00:43,  2.43s/it]\n",
      "20it [00:45,  2.40s/it]\n",
      "21it [00:47,  2.39s/it]\n",
      "22it [00:50,  2.39s/it]\n",
      "23it [00:52,  2.45s/it]\n",
      "24it [00:55,  2.37s/it]\n",
      "25it [00:57,  2.34s/it]\n",
      "26it [00:59,  2.34s/it]\n",
      "27it [01:01,  2.32s/it]\n",
      "28it [01:04,  2.36s/it]\n",
      "29it [01:06,  2.37s/it]\n",
      "30it [01:08,  2.29s/it]\n",
      "31it [01:11,  2.39s/it]\n",
      "32it [01:13,  2.38s/it]\n",
      "33it [01:16,  2.36s/it]\n",
      "34it [01:18,  2.33s/it]\n",
      "35it [01:20,  2.32s/it]\n",
      "36it [01:23,  2.32s/it]\n",
      "37it [01:25,  2.36s/it]\n",
      "38it [01:28,  2.43s/it]\n",
      "39it [01:28,  1.86s/it]\n",
      "39it [01:28,  2.27s/it]\n",
      "\n",
      "0it [00:00, ?it/s]\n",
      "1it [00:00,  1.10it/s]\n",
      "2it [00:01,  1.04it/s]\n",
      "3it [00:03,  1.03s/it]\n",
      "4it [00:04,  1.04s/it]\n",
      "5it [00:05,  1.03s/it]\n",
      "6it [00:06,  1.04s/it]\n",
      "7it [00:07,  1.04s/it]\n",
      "8it [00:08,  1.05s/it]\n",
      "9it [00:09,  1.05s/it]\n",
      "10it [00:09,  1.09it/s]\n",
      "10it [00:09,  1.01it/s]\n",
      "\n",
      "0it [00:00, ?it/s]\n",
      "1it [00:02,  2.13s/it]\n",
      "2it [00:04,  2.21s/it]\n",
      "3it [00:06,  2.13s/it]\n",
      "4it [00:08,  2.16s/it]\n",
      "5it [00:10,  2.14s/it]\n",
      "6it [00:13,  2.20s/it]\n",
      "7it [00:15,  2.17s/it]\n",
      "8it [00:17,  2.15s/it]\n",
      "9it [00:19,  2.15s/it]\n",
      "10it [00:21,  2.15s/it]\n",
      "11it [00:23,  2.16s/it]\n",
      "12it [00:25,  2.14s/it]\n",
      "13it [00:28,  2.15s/it]\n",
      "14it [00:30,  2.14s/it]\n",
      "15it [00:32,  2.13s/it]\n",
      "16it [00:34,  2.28s/it]\n",
      "17it [00:37,  2.29s/it]\n",
      "18it [00:39,  2.21s/it]\n",
      "19it [00:41,  2.22s/it]\n",
      "20it [00:43,  2.15s/it]\n",
      "21it [00:45,  2.21s/it]\n",
      "22it [00:47,  2.19s/it]\n",
      "23it [00:50,  2.18s/it]\n",
      "24it [00:52,  2.15s/it]\n",
      "25it [00:54,  2.15s/it]\n",
      "26it [00:56,  2.21s/it]\n",
      "27it [00:59,  2.25s/it]\n",
      "28it [01:01,  2.28s/it]\n",
      "29it [01:03,  2.29s/it]\n",
      "30it [01:05,  2.26s/it]\n",
      "31it [01:08,  2.24s/it]\n",
      "32it [01:10,  2.18s/it]\n",
      "33it [01:12,  2.19s/it]\n",
      "34it [01:15,  2.49s/it]\n",
      "35it [01:19,  2.82s/it]\n",
      "36it [01:22,  2.89s/it]\n",
      "37it [01:24,  2.69s/it]\n",
      "38it [01:26,  2.51s/it]\n",
      "39it [01:26,  1.85s/it]\n",
      "39it [01:26,  2.22s/it]\n",
      "\n",
      "0it [00:00, ?it/s]\n",
      "1it [00:00,  1.04it/s]\n",
      "2it [00:02,  1.03s/it]\n",
      "3it [00:03,  1.03s/it]\n",
      "4it [00:04,  1.04s/it]\n",
      "5it [00:05,  1.05s/it]\n",
      "6it [00:06,  1.08s/it]\n",
      "7it [00:07,  1.07s/it]\n",
      "8it [00:08,  1.05s/it]\n",
      "9it [00:09,  1.04s/it]\n",
      "10it [00:09,  1.11it/s]\n",
      "10it [00:09,  1.00it/s]\n",
      "\n",
      "0it [00:00, ?it/s]\n",
      "1it [00:02,  2.31s/it]\n",
      "2it [00:04,  2.19s/it]\n",
      "3it [00:06,  2.18s/it]\n",
      "4it [00:08,  2.17s/it]\n",
      "5it [00:11,  2.26s/it]\n",
      "6it [00:13,  2.31s/it]\n",
      "7it [00:15,  2.23s/it]\n",
      "8it [00:17,  2.19s/it]\n",
      "9it [00:20,  2.29s/it]\n",
      "10it [00:22,  2.33s/it]\n",
      "11it [00:24,  2.31s/it]\n",
      "12it [00:27,  2.33s/it]\n",
      "13it [00:29,  2.31s/it]\n",
      "14it [00:31,  2.30s/it]\n",
      "15it [00:34,  2.31s/it]\n",
      "16it [00:36,  2.32s/it]\n",
      "17it [00:38,  2.35s/it]\n",
      "18it [00:41,  2.28s/it]\n",
      "19it [00:43,  2.32s/it]\n",
      "20it [00:45,  2.36s/it]\n",
      "21it [00:48,  2.36s/it]\n",
      "22it [00:50,  2.36s/it]\n",
      "23it [00:52,  2.27s/it]\n",
      "24it [00:54,  2.23s/it]\n",
      "25it [00:56,  2.19s/it]\n",
      "26it [00:59,  2.20s/it]\n",
      "27it [01:01,  2.20s/it]\n",
      "28it [01:03,  2.19s/it]\n",
      "29it [01:05,  2.22s/it]\n",
      "30it [01:08,  2.26s/it]\n",
      "31it [01:10,  2.28s/it]\n",
      "32it [01:12,  2.22s/it]\n",
      "33it [01:14,  2.18s/it]\n",
      "34it [01:16,  2.16s/it]\n",
      "35it [01:18,  2.16s/it]\n",
      "36it [01:21,  2.14s/it]\n",
      "37it [01:23,  2.21s/it]\n",
      "38it [01:25,  2.20s/it]\n",
      "39it [01:25,  1.63s/it]\n",
      "39it [01:25,  2.20s/it]\n",
      "\n",
      "0it [00:00, ?it/s]\n",
      "1it [00:00,  1.12it/s]\n",
      "2it [00:01,  1.01it/s]\n",
      "3it [00:02,  1.01s/it]\n",
      "4it [00:04,  1.04s/it]\n",
      "5it [00:05,  1.06s/it]\n",
      "6it [00:06,  1.04s/it]\n",
      "7it [00:07,  1.06s/it]\n",
      "8it [00:08,  1.05s/it]\n",
      "9it [00:09,  1.06s/it]\n",
      "10it [00:10,  1.07it/s]\n",
      "10it [00:10,  1.00s/it]\n",
      "\n",
      "0it [00:00, ?it/s]\n",
      "1it [00:00,  1.05it/s]\n",
      "2it [00:02,  1.01s/it]\n",
      "3it [00:03,  1.05s/it]\n",
      "4it [00:03,  1.18it/s]\n",
      "4it [00:03,  1.10it/s]\n",
      "wandb: Waiting for W&B process to finish... (success).\n",
      "wandb: - 0.001 MB of 0.001 MB uploaded (0.000 MB deduped)\n",
      "wandb: \\ 0.001 MB of 0.010 MB uploaded (0.000 MB deduped)\n",
      "wandb: | 0.003 MB of 0.010 MB uploaded (0.000 MB deduped)\n",
      "wandb: / 0.003 MB of 0.010 MB uploaded (0.000 MB deduped)\n",
      "wandb: \n",
      "wandb: Run summary:\n",
      "wandb:   test.loss 0.7844\n",
      "wandb: test.metric 0.52801\n",
      "wandb: \n",
      "wandb:  View run baseline at: https://wandb.ai/zimka/suim_segmentation2023/runs/xz7gbm1g\n",
      "wandb: Synced 5 W&B file(s), 0 media file(s), 0 artifact file(s) and 0 other file(s)\n",
      "wandb: Find logs at: .\\wandb\\run-20230930_222238-xz7gbm1g\\logs\n"
     ]
    }
   ],
   "source": [
    "! python -m suim_segmentation.run --name=baseline --lr=0.03 --num-epochs=5 --batch-size=32 --device=cpu:0 \\\n",
    "    --train-data=D:\\edu\\course_cvdl\\classes\\c04\\data\\train_val \\\n",
    "    --test-data=D:\\edu\\course_cvdl\\classes\\c04\\data\\TEST "
   ]
  },
  {
   "cell_type": "code",
   "execution_count": null,
   "id": "aae725ce-6be2-42c4-a649-0f1617aa03d6",
   "metadata": {},
   "outputs": [],
   "source": [
    " "
   ]
  }
 ],
 "metadata": {
  "kernelspec": {
   "display_name": "Python 3 (ipykernel)",
   "language": "python",
   "name": "python3"
  },
  "language_info": {
   "codemirror_mode": {
    "name": "ipython",
    "version": 3
   },
   "file_extension": ".py",
   "mimetype": "text/x-python",
   "name": "python",
   "nbconvert_exporter": "python",
   "pygments_lexer": "ipython3",
   "version": "3.10.12"
  }
 },
 "nbformat": 4,
 "nbformat_minor": 5
}
